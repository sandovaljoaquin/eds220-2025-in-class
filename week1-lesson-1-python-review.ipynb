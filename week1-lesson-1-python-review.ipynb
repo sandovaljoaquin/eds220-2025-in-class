{
 "cells": [
  {
   "cell_type": "markdown",
   "id": "5bd8115c-6a5f-4f48-8a3f-924dbcd3d5e6",
   "metadata": {},
   "source": [
    "# Python Review \n",
    "\n",
    "Goals: \n",
    "- recall basic python vocabulary \n",
    "- practice markdown \n",
    "\n",
    "## Libraries and packages\n",
    "\n",
    "**library** collection of code that we can use to perform specific tasks in our programs. \n",
    "\n",
    "**NumPy** \n",
    "\n",
    "- core library for computing in python \n",
    "- many other libraries use NumPy as building blocks \n",
    "- computations on NumPy are optimized for speed and memory usage \n",
    "\n",
    "Let's import NumPy with standard abbreviation**"
   ]
  },
  {
   "cell_type": "code",
   "execution_count": 1,
   "id": "32006845-d48f-4031-920c-9bc1943052bc",
   "metadata": {
    "tags": []
   },
   "outputs": [],
   "source": [
    "import numpy as np "
   ]
  },
  {
   "cell_type": "markdown",
   "id": "3b463211-4388-40e3-8f97-c83d87c94337",
   "metadata": {},
   "source": [
    "## Variables \n",
    "\n",
    "**variable** name we assign to a particular object in Python\n",
    "\n",
    "Example: "
   ]
  },
  {
   "cell_type": "code",
   "execution_count": 2,
   "id": "6d80059c-5bec-4a6c-a160-9a63733f0ef8",
   "metadata": {
    "tags": []
   },
   "outputs": [],
   "source": [
    "# Assign a small array to a variable a \n",
    "\n",
    "a = np.array([[1,1,2],[3,5,8]]) "
   ]
  },
  {
   "cell_type": "code",
   "execution_count": 3,
   "id": "de8ae632-88ac-4ad0-b9dc-fe2288b30ec8",
   "metadata": {
    "tags": []
   },
   "outputs": [
    {
     "data": {
      "text/plain": [
       "array([[1, 1, 2],\n",
       "       [3, 5, 8]])"
      ]
     },
     "execution_count": 3,
     "metadata": {},
     "output_type": "execute_result"
    }
   ],
   "source": [
    "# Run cell with variable name to show value \n",
    "a"
   ]
  },
  {
   "cell_type": "code",
   "execution_count": 4,
   "id": "79d9ad6a-f184-43d7-8500-9045a33163d3",
   "metadata": {
    "tags": []
   },
   "outputs": [
    {
     "name": "stdout",
     "output_type": "stream",
     "text": [
      "[[1 1 2]\n",
      " [3 5 8]]\n"
     ]
    }
   ],
   "source": [
    "# Use print function to print the value \n",
    "print(a)"
   ]
  },
  {
   "cell_type": "markdown",
   "id": "6e68fa3c-1fa3-40aa-a0d8-076d853bc660",
   "metadata": {},
   "source": [
    "## Objects \n",
    "**object** (informally speaking) a bundle of properties and actions about something specific. \n",
    "\n",
    "Example: \n",
    "\n",
    "Object: dataframe \n",
    "\n",
    "Properties: number of rows, names of columns, date created\n",
    "\n",
    "Actions: selecting a specific row, adding a new column \n",
    "\n",
    "A variable is the same name we give a specific object, and the same object van be referenced by different variables. \n",
    "\n",
    "In practice we can often use variable and object interchangeably. \n",
    "\n",
    "-\n"
   ]
  },
  {
   "cell_type": "code",
   "execution_count": 1,
   "id": "219b79f2-a62a-4476-a207-e41b332e6e2f",
   "metadata": {
    "tags": []
   },
   "outputs": [],
   "source": []
  },
  {
   "cell_type": "code",
   "execution_count": null,
   "id": "233f481f-32e1-49f4-bb98-f96349551fc8",
   "metadata": {},
   "outputs": [],
   "source": []
  }
 ],
 "metadata": {
  "kernelspec": {
   "display_name": "EDS220",
   "language": "python",
   "name": "eds220-env"
  },
  "language_info": {
   "codemirror_mode": {
    "name": "ipython",
    "version": 3
   },
   "file_extension": ".py",
   "mimetype": "text/x-python",
   "name": "python",
   "nbconvert_exporter": "python",
   "pygments_lexer": "ipython3",
   "version": "3.11.4"
  }
 },
 "nbformat": 4,
 "nbformat_minor": 5
}
