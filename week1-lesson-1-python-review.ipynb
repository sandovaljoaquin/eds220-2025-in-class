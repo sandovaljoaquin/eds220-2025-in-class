{
 "cells": [
  {
   "cell_type": "markdown",
   "id": "5bd8115c-6a5f-4f48-8a3f-924dbcd3d5e6",
   "metadata": {},
   "source": [
    "# Python Review \n",
    "\n",
    "Goals: \n",
    "- recall basic python vocabulary \n",
    "- practice markdown \n",
    "\n",
    "## Libraries and packages\n",
    "\n",
    "**library** collection of code that we can use to perform specific tasks in our programs. \n",
    "\n",
    "**NumPy** \n",
    "\n",
    "- core library for computing in python \n",
    "- many other libraries use NumPy as building blocks \n",
    "- computations on NumPy are optimized for speed and memory usage \n",
    "\n",
    "Let's import NumPy with standard abbreviation **np**"
   ]
  },
  {
   "cell_type": "code",
   "execution_count": 1,
   "id": "32006845-d48f-4031-920c-9bc1943052bc",
   "metadata": {
    "tags": []
   },
   "outputs": [],
   "source": [
    "import numpy as np "
   ]
  },
  {
   "cell_type": "markdown",
   "id": "3b463211-4388-40e3-8f97-c83d87c94337",
   "metadata": {},
   "source": [
    "## Variables \n",
    "\n",
    "**variable** : name we assign to a particular object in Python\n",
    "\n",
    "Example: "
   ]
  },
  {
   "cell_type": "code",
   "execution_count": 2,
   "id": "6d80059c-5bec-4a6c-a160-9a63733f0ef8",
   "metadata": {
    "tags": []
   },
   "outputs": [],
   "source": [
    "# Assign a small array to a variable a \n",
    "\n",
    "a = np.array([[1,1,2],[3,5,8]]) "
   ]
  },
  {
   "cell_type": "code",
   "execution_count": 3,
   "id": "de8ae632-88ac-4ad0-b9dc-fe2288b30ec8",
   "metadata": {
    "tags": []
   },
   "outputs": [
    {
     "data": {
      "text/plain": [
       "array([[1, 1, 2],\n",
       "       [3, 5, 8]])"
      ]
     },
     "execution_count": 3,
     "metadata": {},
     "output_type": "execute_result"
    }
   ],
   "source": [
    "# Run cell with variable name to show value \n",
    "a"
   ]
  },
  {
   "cell_type": "code",
   "execution_count": 4,
   "id": "79d9ad6a-f184-43d7-8500-9045a33163d3",
   "metadata": {
    "tags": []
   },
   "outputs": [
    {
     "name": "stdout",
     "output_type": "stream",
     "text": [
      "[[1 1 2]\n",
      " [3 5 8]]\n"
     ]
    }
   ],
   "source": [
    "# Use print function to print the value \n",
    "print(a)"
   ]
  },
  {
   "cell_type": "markdown",
   "id": "6e68fa3c-1fa3-40aa-a0d8-076d853bc660",
   "metadata": {},
   "source": [
    "## Objects \n",
    "**object** (informally speaking) a bundle of properties and actions about something specific. \n",
    "\n",
    "Example: \n",
    "\n",
    "Object: dataframe \n",
    "\n",
    "Properties: number of rows, names of columns, date created\n",
    "\n",
    "Actions: selecting a specific row, adding a new column \n",
    "\n",
    "A variable is the same name we give a specific object, and the same object van be referenced by different variables. \n",
    "\n",
    "In practice we can often use variable and object interchangeably. "
   ]
  },
  {
   "cell_type": "markdown",
   "id": "bb6ef06b-df2f-4cd7-987f-4d342e307420",
   "metadata": {},
   "source": [
    "### Types \n",
    "\n",
    "Every object in Python has a type, the type tells us which kind of object it is. Type and class are interchangeable. \n",
    "\n",
    "We can see the type/class of a variable/object by uisng the **type** function."
   ]
  },
  {
   "cell_type": "code",
   "execution_count": 5,
   "id": "8ca026b8-8ede-439d-b78a-492b15d846f9",
   "metadata": {
    "tags": []
   },
   "outputs": [
    {
     "name": "stdout",
     "output_type": "stream",
     "text": [
      "[[1 1 2]\n",
      " [3 5 8]]\n"
     ]
    },
    {
     "data": {
      "text/plain": [
       "numpy.ndarray"
      ]
     },
     "execution_count": 5,
     "metadata": {},
     "output_type": "execute_result"
    }
   ],
   "source": [
    "print(a)\n",
    "type(a)"
   ]
  },
  {
   "cell_type": "markdown",
   "id": "74e01620-922b-4888-b361-c807794d9568",
   "metadata": {},
   "source": [
    "The **numpy.ndarray** is the core object/data type in the NumPy package. We can check the type of an entry in the array by indexing: "
   ]
  },
  {
   "cell_type": "code",
   "execution_count": 17,
   "id": "bbce2df0-efea-49b3-9a47-68a9f7ef1b00",
   "metadata": {
    "tags": []
   },
   "outputs": [
    {
     "name": "stdout",
     "output_type": "stream",
     "text": [
      "1\n"
     ]
    },
    {
     "data": {
      "text/plain": [
       "numpy.int64"
      ]
     },
     "execution_count": 17,
     "metadata": {},
     "output_type": "execute_result"
    }
   ],
   "source": [
    "print(a[0,0])\n",
    "\n",
    "# Check the type on an entry on the array by indexing \n",
    "type(a[0,0])"
   ]
  },
  {
   "cell_type": "markdown",
   "id": "370170a9-2ef2-47d0-88ea-3e23392dc72c",
   "metadata": {},
   "source": [
    "Notice that `type(a[0,0])` is **numpy.int64** tells us the 1 is stored as a 64-bit number. NumPy has its own data types to deal with numbers depending on memory storage and floating point precision. "
   ]
  },
  {
   "cell_type": "markdown",
   "id": "013e4155-6695-4df1-8bcb-6f370292f0d9",
   "metadata": {},
   "source": [
    "Access value 5 in the array: "
   ]
  },
  {
   "cell_type": "code",
   "execution_count": 7,
   "id": "d37070a5-bd98-46da-8d1a-ebfaeca86c37",
   "metadata": {
    "tags": []
   },
   "outputs": [
    {
     "name": "stdout",
     "output_type": "stream",
     "text": [
      "5\n"
     ]
    }
   ],
   "source": [
    "print(a[1,1])"
   ]
  },
  {
   "cell_type": "markdown",
   "id": "d70dfff5-4c5a-4429-9d6d-3a7747c9fff7",
   "metadata": {},
   "source": [
    "### Functions \n",
    "\n",
    "print was our first example of a Python **function**. Functions take in a set of arguments, separated by commas and use those arguments to create an **output**. \n",
    "\n",
    "There are several built-in functions in Python, most of them are for interacting with the Python basic data types such as `int` (integers), `float` (decimal numbers), `str` (strings), and `bool` (boolean values). "
   ]
  },
  {
   "cell_type": "markdown",
   "id": "3afaa6ee-12a7-4aac-85db-7ba297329097",
   "metadata": {},
   "source": [
    "Argument and parameter will be used interchangeably. \n",
    "\n",
    "**parameter** is a variable in the function definition that accepts an argument passed to the function. It is a placeholder in the function that will receive the value of an argument when the function is caled. "
   ]
  },
  {
   "cell_type": "code",
   "execution_count": 8,
   "id": "d3f2113d-4569-4324-9d61-6763285179a3",
   "metadata": {
    "tags": []
   },
   "outputs": [],
   "source": [
    "def my_function(parameter1, parameter2):\n",
    "    return parameter1 + parameter2"
   ]
  },
  {
   "cell_type": "markdown",
   "id": "5635157c-834f-4455-bd51-1f951e9116e0",
   "metadata": {},
   "source": [
    "`parameter1` and `paramter2` are paramters. When we call the function"
   ]
  },
  {
   "cell_type": "code",
   "execution_count": 9,
   "id": "85a27313-64f0-466c-859a-1adf4eaa06de",
   "metadata": {
    "tags": []
   },
   "outputs": [
    {
     "data": {
      "text/plain": [
       "15"
      ]
     },
     "execution_count": 9,
     "metadata": {},
     "output_type": "execute_result"
    }
   ],
   "source": [
    "result = my_function(5,10)\n",
    "result"
   ]
  },
  {
   "cell_type": "markdown",
   "id": "2b528474-773e-48fb-9060-ea626c1bfdda",
   "metadata": {},
   "source": [
    "We have the 5 and 10 are arguments passed into the function. \n",
    "\n",
    "We'll see paramter more often in a package's documentation. "
   ]
  },
  {
   "cell_type": "markdown",
   "id": "7e76f46e-9446-4fb2-9ca8-acf184f34574",
   "metadata": {},
   "source": [
    "### Documentation \n",
    "\n",
    "We can ask for information about what a function does by executing `?` followed by the function name. "
   ]
  },
  {
   "cell_type": "code",
   "execution_count": 10,
   "id": "d1ecb805-831e-4a72-9e56-5869b3177030",
   "metadata": {
    "tags": []
   },
   "outputs": [
    {
     "data": {
      "text/plain": [
       "\u001b[0;31mSignature:\u001b[0m \u001b[0mprint\u001b[0m\u001b[0;34m(\u001b[0m\u001b[0;34m*\u001b[0m\u001b[0margs\u001b[0m\u001b[0;34m,\u001b[0m \u001b[0msep\u001b[0m\u001b[0;34m=\u001b[0m\u001b[0;34m' '\u001b[0m\u001b[0;34m,\u001b[0m \u001b[0mend\u001b[0m\u001b[0;34m=\u001b[0m\u001b[0;34m'\\n'\u001b[0m\u001b[0;34m,\u001b[0m \u001b[0mfile\u001b[0m\u001b[0;34m=\u001b[0m\u001b[0;32mNone\u001b[0m\u001b[0;34m,\u001b[0m \u001b[0mflush\u001b[0m\u001b[0;34m=\u001b[0m\u001b[0;32mFalse\u001b[0m\u001b[0;34m)\u001b[0m\u001b[0;34m\u001b[0m\u001b[0;34m\u001b[0m\u001b[0m\n",
       "\u001b[0;31mDocstring:\u001b[0m\n",
       "Prints the values to a stream, or to sys.stdout by default.\n",
       "\n",
       "sep\n",
       "  string inserted between values, default a space.\n",
       "end\n",
       "  string appended after the last value, default a newline.\n",
       "file\n",
       "  a file-like object (stream); defaults to the current sys.stdout.\n",
       "flush\n",
       "  whether to forcibly flush the stream.\n",
       "\u001b[0;31mType:\u001b[0m      builtin_function_or_method"
      ]
     },
     "metadata": {},
     "output_type": "display_data"
    }
   ],
   "source": [
    "?print"
   ]
  },
  {
   "cell_type": "markdown",
   "id": "aaa09561-d5fe-4633-9271-85a3330b403a",
   "metadata": {},
   "source": [
    "We obtain **docstring**, a special type of comment that is used to document how a function(or class, or module) works. \n",
    "\n",
    "The first line tells us the function name followed by arguments in parentheses. \n",
    "\n",
    "**non-optional arguments**: arguments you need to specify for the function to do something\n",
    "\n",
    "**optional arguments**: arguments that are pre-filled with a default value by the function, but you can override them. Optional arguments appear inside the parenthesis() in form `opt_arg = `def_val`"
   ]
  },
  {
   "cell_type": "code",
   "execution_count": 18,
   "id": "a2d824a6-b251-4e0c-ac98-b280b99e4c30",
   "metadata": {
    "tags": []
   },
   "outputs": [
    {
     "name": "stdout",
     "output_type": "stream",
     "text": [
      "changing the end of an argument:)"
     ]
    }
   ],
   "source": [
    "print('changing the end of an argument', end = ':)')"
   ]
  },
  {
   "cell_type": "markdown",
   "id": "c35020ef-6aab-4a68-92f0-39e5cfec6b7c",
   "metadata": {},
   "source": [
    "### Attributes and methods \n",
    "\n",
    "An object in Python has attributes and methods. \n",
    "\n",
    "An **attribute** is a property of the object, some piece of information about it. \n",
    "\n",
    "A **method** is a function associated with an object, so it is an action where the main ingredient is the object \n",
    "\n",
    "\n",
    "We can access a variable's attributes and methods by adding a period `.` at the end of the variable's name. So we would write: \n",
    "\n",
    "`variable.variable_method()` or `variable.variable_attribute()`"
   ]
  },
  {
   "cell_type": "markdown",
   "id": "d1c57b33-e9b5-4a3d-8cae-82f92f5bddfe",
   "metadata": {},
   "source": [
    "Check in \n",
    "\n",
    "fish attributes\n",
    "-length, color, species \n",
    "\n",
    "Fish methods\n",
    "- die(), bite(), swim()\n"
   ]
  },
  {
   "cell_type": "markdown",
   "id": "ebe16ca7-0cf4-4862-abf0-d96735d8183c",
   "metadata": {},
   "source": [
    "NumPy arrays have many methods and attributes "
   ]
  },
  {
   "cell_type": "code",
   "execution_count": 19,
   "id": "1684d5e3-ddab-4a48-83a8-84d1a428221a",
   "metadata": {
    "tags": []
   },
   "outputs": [
    {
     "data": {
      "text/plain": [
       "array([1, 1, 2])"
      ]
     },
     "execution_count": 19,
     "metadata": {},
     "output_type": "execute_result"
    }
   ],
   "source": [
    "# Methods examples \n",
    "\n",
    "# min returns the minimum value of a specified axis \n",
    "a.min(axis =0)"
   ]
  },
  {
   "cell_type": "code",
   "execution_count": 11,
   "id": "9a36eab2-5130-4f7e-81f5-99af97a32d48",
   "metadata": {
    "tags": []
   },
   "outputs": [
    {
     "data": {
      "text/plain": [
       "array([[1, 2, 3],\n",
       "       [4, 5, 6],\n",
       "       [7, 8, 9]])"
      ]
     },
     "execution_count": 11,
     "metadata": {},
     "output_type": "execute_result"
    }
   ],
   "source": [
    "# A 3x3 array\n",
    "var = np.array([[1,2,3],[4,5,6],[7,8,9]])\n",
    "var"
   ]
  },
  {
   "cell_type": "markdown",
   "id": "2ece184a-0843-4693-b887-1633333ebfb7",
   "metadata": {},
   "source": [
    "`T` is an example of attribute, it returns the transpose of `var`:"
   ]
  },
  {
   "cell_type": "code",
   "execution_count": 12,
   "id": "1d0b8e2d-6602-4057-a52b-8b6856b2beb2",
   "metadata": {
    "tags": []
   },
   "outputs": [
    {
     "name": "stdout",
     "output_type": "stream",
     "text": [
      "[[1 4 7]\n",
      " [2 5 8]\n",
      " [3 6 9]]\n",
      "<class 'numpy.ndarray'>\n"
     ]
    }
   ],
   "source": [
    "print(var.T)\n",
    "print(type(var.T))"
   ]
  },
  {
   "cell_type": "markdown",
   "id": "4012ce31-d62c-4c55-9df3-951f75c0b99d",
   "metadata": {},
   "source": [
    "`shape` is another attribute, tells us the shape of the array."
   ]
  },
  {
   "cell_type": "code",
   "execution_count": 13,
   "id": "429e7ab0-b25c-466e-a219-de0dcc542dc8",
   "metadata": {
    "tags": []
   },
   "outputs": [
    {
     "name": "stdout",
     "output_type": "stream",
     "text": [
      "(3, 3)\n",
      "<class 'tuple'>\n"
     ]
    }
   ],
   "source": [
    "print(var.shape)\n",
    "print(type(var.shape))"
   ]
  },
  {
   "cell_type": "markdown",
   "id": "f6c7f767-77dc-4341-baa1-d3959b1ef9a2",
   "metadata": {},
   "source": [
    "The `tolist` method returns the minimum value in the array along a specified axis:"
   ]
  },
  {
   "cell_type": "code",
   "execution_count": 14,
   "id": "2f587402-5258-4a13-a291-ba077b20c064",
   "metadata": {
    "tags": []
   },
   "outputs": [
    {
     "data": {
      "text/plain": [
       "[[1, 2, 3], [4, 5, 6], [7, 8, 9]]"
      ]
     },
     "execution_count": 14,
     "metadata": {},
     "output_type": "execute_result"
    }
   ],
   "source": [
    "var.tolist()"
   ]
  },
  {
   "cell_type": "code",
   "execution_count": 15,
   "id": "2ba6000a-3c42-4971-87a8-dfee16362dc4",
   "metadata": {
    "tags": []
   },
   "outputs": [
    {
     "data": {
      "text/plain": [
       "1"
      ]
     },
     "execution_count": 15,
     "metadata": {},
     "output_type": "execute_result"
    }
   ],
   "source": [
    "var.min()"
   ]
  },
  {
   "cell_type": "code",
   "execution_count": 16,
   "id": "16f608ae-809e-4bf3-8fa0-b4be62beceb8",
   "metadata": {
    "tags": []
   },
   "outputs": [
    {
     "data": {
      "text/plain": [
       "array([1, 2, 3])"
      ]
     },
     "execution_count": 16,
     "metadata": {},
     "output_type": "execute_result"
    }
   ],
   "source": [
    "var.min(axis = 0)"
   ]
  },
  {
   "cell_type": "markdown",
   "id": "a5d928c7-173c-48b5-bcce-b64d5710ccb6",
   "metadata": {},
   "source": [
    "## Excercise \n",
    "\n",
    "1. Read the `print` function help. What is the **type** of the argument `sep`? \n",
    "\n",
    "2. Create two new variables, one with integer value 77 and another with the string 99. \n",
    "\n",
    "3. Use your variables to print `77%99%77` by changing the value of one of the optional arguments in `print`."
   ]
  },
  {
   "cell_type": "code",
   "execution_count": 20,
   "id": "f493e73f-f0ac-4ad9-8e0a-c1a9bccfe609",
   "metadata": {
    "tags": []
   },
   "outputs": [
    {
     "data": {
      "text/plain": [
       "\u001b[0;31mSignature:\u001b[0m \u001b[0mprint\u001b[0m\u001b[0;34m(\u001b[0m\u001b[0;34m*\u001b[0m\u001b[0margs\u001b[0m\u001b[0;34m,\u001b[0m \u001b[0msep\u001b[0m\u001b[0;34m=\u001b[0m\u001b[0;34m' '\u001b[0m\u001b[0;34m,\u001b[0m \u001b[0mend\u001b[0m\u001b[0;34m=\u001b[0m\u001b[0;34m'\\n'\u001b[0m\u001b[0;34m,\u001b[0m \u001b[0mfile\u001b[0m\u001b[0;34m=\u001b[0m\u001b[0;32mNone\u001b[0m\u001b[0;34m,\u001b[0m \u001b[0mflush\u001b[0m\u001b[0;34m=\u001b[0m\u001b[0;32mFalse\u001b[0m\u001b[0;34m)\u001b[0m\u001b[0;34m\u001b[0m\u001b[0;34m\u001b[0m\u001b[0m\n",
       "\u001b[0;31mDocstring:\u001b[0m\n",
       "Prints the values to a stream, or to sys.stdout by default.\n",
       "\n",
       "sep\n",
       "  string inserted between values, default a space.\n",
       "end\n",
       "  string appended after the last value, default a newline.\n",
       "file\n",
       "  a file-like object (stream); defaults to the current sys.stdout.\n",
       "flush\n",
       "  whether to forcibly flush the stream.\n",
       "\u001b[0;31mType:\u001b[0m      builtin_function_or_method"
      ]
     },
     "metadata": {},
     "output_type": "display_data"
    }
   ],
   "source": [
    "?print"
   ]
  },
  {
   "cell_type": "markdown",
   "id": "1bc60252-d3a9-4877-a9ab-07b281f043c6",
   "metadata": {},
   "source": [
    "1. The argument `sep` is an optional argument "
   ]
  },
  {
   "cell_type": "code",
   "execution_count": 27,
   "id": "a8cb493c-5196-484e-a653-c2b712767445",
   "metadata": {
    "tags": []
   },
   "outputs": [],
   "source": [
    "a = 77 \n",
    "b = '99'"
   ]
  },
  {
   "cell_type": "code",
   "execution_count": 29,
   "id": "d4d02efe-e811-48a0-8f8b-7f61a4fdeea9",
   "metadata": {
    "tags": []
   },
   "outputs": [
    {
     "name": "stdout",
     "output_type": "stream",
     "text": [
      "77%99%77\n"
     ]
    }
   ],
   "source": [
    "print(a,b,a, sep = '%')"
   ]
  },
  {
   "cell_type": "code",
   "execution_count": null,
   "id": "9fcac246-c831-41d7-90a6-bddff5606268",
   "metadata": {},
   "outputs": [],
   "source": []
  }
 ],
 "metadata": {
  "kernelspec": {
   "display_name": "EDS220",
   "language": "python",
   "name": "eds220-env"
  },
  "language_info": {
   "codemirror_mode": {
    "name": "ipython",
    "version": 3
   },
   "file_extension": ".py",
   "mimetype": "text/x-python",
   "name": "python",
   "nbconvert_exporter": "python",
   "pygments_lexer": "ipython3",
   "version": "3.11.4"
  }
 },
 "nbformat": 4,
 "nbformat_minor": 5
}
