{
 "cells": [
  {
   "cell_type": "markdown",
   "id": "0d2e5e85-8b1c-4cc3-acd4-64f4c4bf9578",
   "metadata": {},
   "source": [
    "### 1 `pandas` series and data frames \n",
    "\n",
    "introduce two core objects in the `pandas` library, the `pandas.Series` and the `pandas.DataFrame`. \n",
    "We want to gain familiarity with these two objects, understand their relation to each other, and review Python data structures with dictionaries and lists.\n"
   ]
  },
  {
   "cell_type": "markdown",
   "id": "530f3165-29a0-4f06-9faf-9acddf04bf28",
   "metadata": {},
   "source": [
    "### `pandas`\n",
    "\n",
    "`pandas` is a Python package to wrangle and analyze tabular data. It is built on top of NumPy and has become the core tool for doing data analysis in Python. The standard abbreviation for `pandas` is `pd`.\n"
   ]
  },
  {
   "cell_type": "code",
   "execution_count": 7,
   "id": "15960e5a-bd97-4326-952f-b1bb940361df",
   "metadata": {
    "tags": []
   },
   "outputs": [],
   "source": [
    "# Always import packages in a single cell, each package should be in a new line\n",
    "\n",
    "import pandas as pd\n",
    "import numpy as np"
   ]
  },
  {
   "cell_type": "markdown",
   "id": "b663efa5-9183-4144-a253-369fa138c45d",
   "metadata": {},
   "source": [
    "### Series \n",
    "\n",
    "The first core object of pandas is the series. A series is a one-dimensional array of indexed data\n",
    "\n",
    "A `pandas.Series` having an index is the main difference between a `pandas.Series` and a NumPy array."
   ]
  },
  {
   "cell_type": "code",
   "execution_count": 2,
   "id": "c0d7bec7-2ca1-4fc4-b15b-19fb6b01cf79",
   "metadata": {
    "tags": []
   },
   "outputs": [
    {
     "name": "stdout",
     "output_type": "stream",
     "text": [
      "<class 'numpy.ndarray'>\n",
      "[ 1.09796344  1.36370408  0.08745993 -0.72353854] \n",
      "\n"
     ]
    }
   ],
   "source": [
    "# A numpy array \n",
    "\n",
    "array = np.random.randn(4) # random values from std normal distribution \n",
    "print(type(array))\n",
    "print(array, \"\\n\")"
   ]
  },
  {
   "cell_type": "code",
   "execution_count": 4,
   "id": "0ec04561-202d-4ee6-8e74-49f3524fd17a",
   "metadata": {
    "tags": []
   },
   "outputs": [
    {
     "name": "stdout",
     "output_type": "stream",
     "text": [
      "<class 'pandas.core.series.Series'>\n",
      "0    1.097963\n",
      "1    1.363704\n",
      "2    0.087460\n",
      "3   -0.723539\n",
      "dtype: float64\n"
     ]
    }
   ],
   "source": [
    "# A pandas series made from the previous array \n",
    "\n",
    "s = pd.Series(array)\n",
    "print(type(s))\n",
    "print(s)"
   ]
  },
  {
   "cell_type": "markdown",
   "id": "12497b1c-9081-4c23-be22-db656e1d1b2d",
   "metadata": {},
   "source": [
    "The index is printed as part of the `pandas.Series` while the np.array is indexable, the index is not apart of the data structure. Printing the `pandas.Series` also shows the values and data type."
   ]
  },
  {
   "cell_type": "markdown",
   "id": "2ddf30b9-7cf6-4274-9e99-3bab4c671f36",
   "metadata": {},
   "source": [
    "### Creating a `pandas.Series`\n",
    "\n",
    "the basic method to creating a pandas series is to call: \n",
    "\n",
    "s = pd.Series(data, index = index) \n",
    "\n",
    "Data can be a list or a NumPy array, python dictionary, single number, boolean (True/False) string.\n",
    "\n",
    "The index parameter is optional "
   ]
  },
  {
   "cell_type": "code",
   "execution_count": 10,
   "id": "93b09fbb-3312-4036-9c17-90d7b5b2c01c",
   "metadata": {
    "tags": []
   },
   "outputs": [
    {
     "data": {
      "text/plain": [
       "2023    0\n",
       "2024    1\n",
       "2025    2\n",
       "dtype: int64"
      ]
     },
     "execution_count": 10,
     "metadata": {},
     "output_type": "execute_result"
    }
   ],
   "source": [
    "# A series from a numpy array \n",
    "pd.Series(np.arange(3), index=[2023, 2024, 2025])"
   ]
  },
  {
   "cell_type": "code",
   "execution_count": 11,
   "id": "84329201-aec1-4380-8b89-8d488fb7c11d",
   "metadata": {
    "tags": []
   },
   "outputs": [
    {
     "data": {
      "text/plain": [
       "0    EDS 220\n",
       "1    EDS 222\n",
       "2    EDS 223\n",
       "3    EDS 242\n",
       "dtype: object"
      ]
     },
     "execution_count": 11,
     "metadata": {},
     "output_type": "execute_result"
    }
   ],
   "source": [
    "# A series from a list of strings with default index \n",
    "\n",
    "pd.Series(['EDS 220', 'EDS 222', 'EDS 223', 'EDS 242'])"
   ]
  },
  {
   "cell_type": "markdown",
   "id": "cc5611ce-ed57-47bf-bfbf-3873f560da7e",
   "metadata": {},
   "source": [
    "Example: Creating a `pandas.Series` from a dictionary\n",
    "\n",
    "a dictionary is a set of key-value pairs. If we create a `pandas.Series` via a dictionary, the keys will become the index and the values the corresponding data."
   ]
  },
  {
   "cell_type": "code",
   "execution_count": 13,
   "id": "23659334-d52b-4674-9c08-d142c996b184",
   "metadata": {
    "tags": []
   },
   "outputs": [
    {
     "data": {
      "text/plain": [
       "key_0    2\n",
       "key_1    3\n",
       "key_2    5\n",
       "dtype: int64"
      ]
     },
     "execution_count": 13,
     "metadata": {},
     "output_type": "execute_result"
    }
   ],
   "source": [
    "# Construct a dictionary \n",
    "\n",
    "d = {'key_0': 2,\n",
    "     'key_1': 3,\n",
    "     'key_2': 5}\n",
    "\n",
    "#Initialize series using a dictionary\n",
    "\n",
    "pd.Series(d)"
   ]
  },
  {
   "cell_type": "code",
   "execution_count": null,
   "id": "90ddd3e3-1da8-4be2-b990-afe115e20f95",
   "metadata": {},
   "outputs": [],
   "source": []
  }
 ],
 "metadata": {
  "kernelspec": {
   "display_name": "EDS220",
   "language": "python",
   "name": "eds220-env"
  },
  "language_info": {
   "codemirror_mode": {
    "name": "ipython",
    "version": 3
   },
   "file_extension": ".py",
   "mimetype": "text/x-python",
   "name": "python",
   "nbconvert_exporter": "python",
   "pygments_lexer": "ipython3",
   "version": "3.11.4"
  }
 },
 "nbformat": 4,
 "nbformat_minor": 5
}
