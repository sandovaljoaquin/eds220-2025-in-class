{
 "cells": [
  {
   "cell_type": "markdown",
   "id": "c27ab96a-2089-40e4-aa37-08870212043d",
   "metadata": {},
   "source": [
    "# Subsetting \n",
    "\n",
    "Review core methods to select data from a `pandas.DataFrame`\n",
    "\n",
    "## Read in CSV"
   ]
  },
  {
   "cell_type": "code",
   "execution_count": 8,
   "id": "5a25ecba-41c0-4cd0-8fc0-d1e1b1457057",
   "metadata": {
    "tags": []
   },
   "outputs": [
    {
     "ename": "FileNotFoundError",
     "evalue": "[Errno 2] No such file or directory: 'data/wetlands_seasonal_bird_diversity.csv'",
     "output_type": "error",
     "traceback": [
      "\u001b[0;31m---------------------------------------------------------------------------\u001b[0m",
      "\u001b[0;31mFileNotFoundError\u001b[0m                         Traceback (most recent call last)",
      "Cell \u001b[0;32mIn[8], line 5\u001b[0m\n\u001b[1;32m      1\u001b[0m \u001b[38;5;28;01mimport\u001b[39;00m \u001b[38;5;21;01mpandas\u001b[39;00m \u001b[38;5;28;01mas\u001b[39;00m \u001b[38;5;21;01mpd\u001b[39;00m \n\u001b[1;32m      3\u001b[0m \u001b[38;5;66;03m# Read in file, argument is the file path \u001b[39;00m\n\u001b[0;32m----> 5\u001b[0m df \u001b[38;5;241m=\u001b[39m \u001b[43mpd\u001b[49m\u001b[38;5;241;43m.\u001b[39;49m\u001b[43mread_csv\u001b[49m\u001b[43m(\u001b[49m\u001b[38;5;124;43m'\u001b[39;49m\u001b[38;5;124;43mdata/wetlands_seasonal_bird_diversity.csv\u001b[39;49m\u001b[38;5;124;43m'\u001b[39;49m\u001b[43m)\u001b[49m\n\u001b[1;32m      7\u001b[0m \u001b[38;5;66;03m# Print data frame's first five rows \u001b[39;00m\n\u001b[1;32m      9\u001b[0m df\u001b[38;5;241m.\u001b[39mhead()\n",
      "File \u001b[0;32m/opt/anaconda3/envs/eds220-env/lib/python3.11/site-packages/pandas/io/parsers/readers.py:1026\u001b[0m, in \u001b[0;36mread_csv\u001b[0;34m(filepath_or_buffer, sep, delimiter, header, names, index_col, usecols, dtype, engine, converters, true_values, false_values, skipinitialspace, skiprows, skipfooter, nrows, na_values, keep_default_na, na_filter, verbose, skip_blank_lines, parse_dates, infer_datetime_format, keep_date_col, date_parser, date_format, dayfirst, cache_dates, iterator, chunksize, compression, thousands, decimal, lineterminator, quotechar, quoting, doublequote, escapechar, comment, encoding, encoding_errors, dialect, on_bad_lines, delim_whitespace, low_memory, memory_map, float_precision, storage_options, dtype_backend)\u001b[0m\n\u001b[1;32m   1013\u001b[0m kwds_defaults \u001b[38;5;241m=\u001b[39m _refine_defaults_read(\n\u001b[1;32m   1014\u001b[0m     dialect,\n\u001b[1;32m   1015\u001b[0m     delimiter,\n\u001b[0;32m   (...)\u001b[0m\n\u001b[1;32m   1022\u001b[0m     dtype_backend\u001b[38;5;241m=\u001b[39mdtype_backend,\n\u001b[1;32m   1023\u001b[0m )\n\u001b[1;32m   1024\u001b[0m kwds\u001b[38;5;241m.\u001b[39mupdate(kwds_defaults)\n\u001b[0;32m-> 1026\u001b[0m \u001b[38;5;28;01mreturn\u001b[39;00m \u001b[43m_read\u001b[49m\u001b[43m(\u001b[49m\u001b[43mfilepath_or_buffer\u001b[49m\u001b[43m,\u001b[49m\u001b[43m \u001b[49m\u001b[43mkwds\u001b[49m\u001b[43m)\u001b[49m\n",
      "File \u001b[0;32m/opt/anaconda3/envs/eds220-env/lib/python3.11/site-packages/pandas/io/parsers/readers.py:620\u001b[0m, in \u001b[0;36m_read\u001b[0;34m(filepath_or_buffer, kwds)\u001b[0m\n\u001b[1;32m    617\u001b[0m _validate_names(kwds\u001b[38;5;241m.\u001b[39mget(\u001b[38;5;124m\"\u001b[39m\u001b[38;5;124mnames\u001b[39m\u001b[38;5;124m\"\u001b[39m, \u001b[38;5;28;01mNone\u001b[39;00m))\n\u001b[1;32m    619\u001b[0m \u001b[38;5;66;03m# Create the parser.\u001b[39;00m\n\u001b[0;32m--> 620\u001b[0m parser \u001b[38;5;241m=\u001b[39m \u001b[43mTextFileReader\u001b[49m\u001b[43m(\u001b[49m\u001b[43mfilepath_or_buffer\u001b[49m\u001b[43m,\u001b[49m\u001b[43m \u001b[49m\u001b[38;5;241;43m*\u001b[39;49m\u001b[38;5;241;43m*\u001b[39;49m\u001b[43mkwds\u001b[49m\u001b[43m)\u001b[49m\n\u001b[1;32m    622\u001b[0m \u001b[38;5;28;01mif\u001b[39;00m chunksize \u001b[38;5;129;01mor\u001b[39;00m iterator:\n\u001b[1;32m    623\u001b[0m     \u001b[38;5;28;01mreturn\u001b[39;00m parser\n",
      "File \u001b[0;32m/opt/anaconda3/envs/eds220-env/lib/python3.11/site-packages/pandas/io/parsers/readers.py:1620\u001b[0m, in \u001b[0;36mTextFileReader.__init__\u001b[0;34m(self, f, engine, **kwds)\u001b[0m\n\u001b[1;32m   1617\u001b[0m     \u001b[38;5;28mself\u001b[39m\u001b[38;5;241m.\u001b[39moptions[\u001b[38;5;124m\"\u001b[39m\u001b[38;5;124mhas_index_names\u001b[39m\u001b[38;5;124m\"\u001b[39m] \u001b[38;5;241m=\u001b[39m kwds[\u001b[38;5;124m\"\u001b[39m\u001b[38;5;124mhas_index_names\u001b[39m\u001b[38;5;124m\"\u001b[39m]\n\u001b[1;32m   1619\u001b[0m \u001b[38;5;28mself\u001b[39m\u001b[38;5;241m.\u001b[39mhandles: IOHandles \u001b[38;5;241m|\u001b[39m \u001b[38;5;28;01mNone\u001b[39;00m \u001b[38;5;241m=\u001b[39m \u001b[38;5;28;01mNone\u001b[39;00m\n\u001b[0;32m-> 1620\u001b[0m \u001b[38;5;28mself\u001b[39m\u001b[38;5;241m.\u001b[39m_engine \u001b[38;5;241m=\u001b[39m \u001b[38;5;28;43mself\u001b[39;49m\u001b[38;5;241;43m.\u001b[39;49m\u001b[43m_make_engine\u001b[49m\u001b[43m(\u001b[49m\u001b[43mf\u001b[49m\u001b[43m,\u001b[49m\u001b[43m \u001b[49m\u001b[38;5;28;43mself\u001b[39;49m\u001b[38;5;241;43m.\u001b[39;49m\u001b[43mengine\u001b[49m\u001b[43m)\u001b[49m\n",
      "File \u001b[0;32m/opt/anaconda3/envs/eds220-env/lib/python3.11/site-packages/pandas/io/parsers/readers.py:1880\u001b[0m, in \u001b[0;36mTextFileReader._make_engine\u001b[0;34m(self, f, engine)\u001b[0m\n\u001b[1;32m   1878\u001b[0m     \u001b[38;5;28;01mif\u001b[39;00m \u001b[38;5;124m\"\u001b[39m\u001b[38;5;124mb\u001b[39m\u001b[38;5;124m\"\u001b[39m \u001b[38;5;129;01mnot\u001b[39;00m \u001b[38;5;129;01min\u001b[39;00m mode:\n\u001b[1;32m   1879\u001b[0m         mode \u001b[38;5;241m+\u001b[39m\u001b[38;5;241m=\u001b[39m \u001b[38;5;124m\"\u001b[39m\u001b[38;5;124mb\u001b[39m\u001b[38;5;124m\"\u001b[39m\n\u001b[0;32m-> 1880\u001b[0m \u001b[38;5;28mself\u001b[39m\u001b[38;5;241m.\u001b[39mhandles \u001b[38;5;241m=\u001b[39m \u001b[43mget_handle\u001b[49m\u001b[43m(\u001b[49m\n\u001b[1;32m   1881\u001b[0m \u001b[43m    \u001b[49m\u001b[43mf\u001b[49m\u001b[43m,\u001b[49m\n\u001b[1;32m   1882\u001b[0m \u001b[43m    \u001b[49m\u001b[43mmode\u001b[49m\u001b[43m,\u001b[49m\n\u001b[1;32m   1883\u001b[0m \u001b[43m    \u001b[49m\u001b[43mencoding\u001b[49m\u001b[38;5;241;43m=\u001b[39;49m\u001b[38;5;28;43mself\u001b[39;49m\u001b[38;5;241;43m.\u001b[39;49m\u001b[43moptions\u001b[49m\u001b[38;5;241;43m.\u001b[39;49m\u001b[43mget\u001b[49m\u001b[43m(\u001b[49m\u001b[38;5;124;43m\"\u001b[39;49m\u001b[38;5;124;43mencoding\u001b[39;49m\u001b[38;5;124;43m\"\u001b[39;49m\u001b[43m,\u001b[49m\u001b[43m \u001b[49m\u001b[38;5;28;43;01mNone\u001b[39;49;00m\u001b[43m)\u001b[49m\u001b[43m,\u001b[49m\n\u001b[1;32m   1884\u001b[0m \u001b[43m    \u001b[49m\u001b[43mcompression\u001b[49m\u001b[38;5;241;43m=\u001b[39;49m\u001b[38;5;28;43mself\u001b[39;49m\u001b[38;5;241;43m.\u001b[39;49m\u001b[43moptions\u001b[49m\u001b[38;5;241;43m.\u001b[39;49m\u001b[43mget\u001b[49m\u001b[43m(\u001b[49m\u001b[38;5;124;43m\"\u001b[39;49m\u001b[38;5;124;43mcompression\u001b[39;49m\u001b[38;5;124;43m\"\u001b[39;49m\u001b[43m,\u001b[49m\u001b[43m \u001b[49m\u001b[38;5;28;43;01mNone\u001b[39;49;00m\u001b[43m)\u001b[49m\u001b[43m,\u001b[49m\n\u001b[1;32m   1885\u001b[0m \u001b[43m    \u001b[49m\u001b[43mmemory_map\u001b[49m\u001b[38;5;241;43m=\u001b[39;49m\u001b[38;5;28;43mself\u001b[39;49m\u001b[38;5;241;43m.\u001b[39;49m\u001b[43moptions\u001b[49m\u001b[38;5;241;43m.\u001b[39;49m\u001b[43mget\u001b[49m\u001b[43m(\u001b[49m\u001b[38;5;124;43m\"\u001b[39;49m\u001b[38;5;124;43mmemory_map\u001b[39;49m\u001b[38;5;124;43m\"\u001b[39;49m\u001b[43m,\u001b[49m\u001b[43m \u001b[49m\u001b[38;5;28;43;01mFalse\u001b[39;49;00m\u001b[43m)\u001b[49m\u001b[43m,\u001b[49m\n\u001b[1;32m   1886\u001b[0m \u001b[43m    \u001b[49m\u001b[43mis_text\u001b[49m\u001b[38;5;241;43m=\u001b[39;49m\u001b[43mis_text\u001b[49m\u001b[43m,\u001b[49m\n\u001b[1;32m   1887\u001b[0m \u001b[43m    \u001b[49m\u001b[43merrors\u001b[49m\u001b[38;5;241;43m=\u001b[39;49m\u001b[38;5;28;43mself\u001b[39;49m\u001b[38;5;241;43m.\u001b[39;49m\u001b[43moptions\u001b[49m\u001b[38;5;241;43m.\u001b[39;49m\u001b[43mget\u001b[49m\u001b[43m(\u001b[49m\u001b[38;5;124;43m\"\u001b[39;49m\u001b[38;5;124;43mencoding_errors\u001b[39;49m\u001b[38;5;124;43m\"\u001b[39;49m\u001b[43m,\u001b[49m\u001b[43m \u001b[49m\u001b[38;5;124;43m\"\u001b[39;49m\u001b[38;5;124;43mstrict\u001b[39;49m\u001b[38;5;124;43m\"\u001b[39;49m\u001b[43m)\u001b[49m\u001b[43m,\u001b[49m\n\u001b[1;32m   1888\u001b[0m \u001b[43m    \u001b[49m\u001b[43mstorage_options\u001b[49m\u001b[38;5;241;43m=\u001b[39;49m\u001b[38;5;28;43mself\u001b[39;49m\u001b[38;5;241;43m.\u001b[39;49m\u001b[43moptions\u001b[49m\u001b[38;5;241;43m.\u001b[39;49m\u001b[43mget\u001b[49m\u001b[43m(\u001b[49m\u001b[38;5;124;43m\"\u001b[39;49m\u001b[38;5;124;43mstorage_options\u001b[39;49m\u001b[38;5;124;43m\"\u001b[39;49m\u001b[43m,\u001b[49m\u001b[43m \u001b[49m\u001b[38;5;28;43;01mNone\u001b[39;49;00m\u001b[43m)\u001b[49m\u001b[43m,\u001b[49m\n\u001b[1;32m   1889\u001b[0m \u001b[43m\u001b[49m\u001b[43m)\u001b[49m\n\u001b[1;32m   1890\u001b[0m \u001b[38;5;28;01massert\u001b[39;00m \u001b[38;5;28mself\u001b[39m\u001b[38;5;241m.\u001b[39mhandles \u001b[38;5;129;01mis\u001b[39;00m \u001b[38;5;129;01mnot\u001b[39;00m \u001b[38;5;28;01mNone\u001b[39;00m\n\u001b[1;32m   1891\u001b[0m f \u001b[38;5;241m=\u001b[39m \u001b[38;5;28mself\u001b[39m\u001b[38;5;241m.\u001b[39mhandles\u001b[38;5;241m.\u001b[39mhandle\n",
      "File \u001b[0;32m/opt/anaconda3/envs/eds220-env/lib/python3.11/site-packages/pandas/io/common.py:873\u001b[0m, in \u001b[0;36mget_handle\u001b[0;34m(path_or_buf, mode, encoding, compression, memory_map, is_text, errors, storage_options)\u001b[0m\n\u001b[1;32m    868\u001b[0m \u001b[38;5;28;01melif\u001b[39;00m \u001b[38;5;28misinstance\u001b[39m(handle, \u001b[38;5;28mstr\u001b[39m):\n\u001b[1;32m    869\u001b[0m     \u001b[38;5;66;03m# Check whether the filename is to be opened in binary mode.\u001b[39;00m\n\u001b[1;32m    870\u001b[0m     \u001b[38;5;66;03m# Binary mode does not support 'encoding' and 'newline'.\u001b[39;00m\n\u001b[1;32m    871\u001b[0m     \u001b[38;5;28;01mif\u001b[39;00m ioargs\u001b[38;5;241m.\u001b[39mencoding \u001b[38;5;129;01mand\u001b[39;00m \u001b[38;5;124m\"\u001b[39m\u001b[38;5;124mb\u001b[39m\u001b[38;5;124m\"\u001b[39m \u001b[38;5;129;01mnot\u001b[39;00m \u001b[38;5;129;01min\u001b[39;00m ioargs\u001b[38;5;241m.\u001b[39mmode:\n\u001b[1;32m    872\u001b[0m         \u001b[38;5;66;03m# Encoding\u001b[39;00m\n\u001b[0;32m--> 873\u001b[0m         handle \u001b[38;5;241m=\u001b[39m \u001b[38;5;28mopen\u001b[39m(\n\u001b[1;32m    874\u001b[0m             handle,\n\u001b[1;32m    875\u001b[0m             ioargs\u001b[38;5;241m.\u001b[39mmode,\n\u001b[1;32m    876\u001b[0m             encoding\u001b[38;5;241m=\u001b[39mioargs\u001b[38;5;241m.\u001b[39mencoding,\n\u001b[1;32m    877\u001b[0m             errors\u001b[38;5;241m=\u001b[39merrors,\n\u001b[1;32m    878\u001b[0m             newline\u001b[38;5;241m=\u001b[39m\u001b[38;5;124m\"\u001b[39m\u001b[38;5;124m\"\u001b[39m,\n\u001b[1;32m    879\u001b[0m         )\n\u001b[1;32m    880\u001b[0m     \u001b[38;5;28;01melse\u001b[39;00m:\n\u001b[1;32m    881\u001b[0m         \u001b[38;5;66;03m# Binary mode\u001b[39;00m\n\u001b[1;32m    882\u001b[0m         handle \u001b[38;5;241m=\u001b[39m \u001b[38;5;28mopen\u001b[39m(handle, ioargs\u001b[38;5;241m.\u001b[39mmode)\n",
      "\u001b[0;31mFileNotFoundError\u001b[0m: [Errno 2] No such file or directory: 'data/wetlands_seasonal_bird_diversity.csv'"
     ]
    }
   ],
   "source": [
    "import pandas as pd \n",
    "\n",
    "# Read in file, argument is the file path \n",
    "\n",
    "df = pd.read_csv('data/wetlands_seasonal_bird_diversity.csv')\n",
    "\n",
    "# Print data frame's first five rows \n",
    "\n",
    "df.head()"
   ]
  },
  {
   "cell_type": "code",
   "execution_count": null,
   "id": "f97060e9-bd9c-444a-966a-27dda950fe89",
   "metadata": {
    "tags": []
   },
   "outputs": [],
   "source": [
    "# Print data frame's last five rows \n",
    "\n",
    "df.tail()"
   ]
  },
  {
   "cell_type": "code",
   "execution_count": null,
   "id": "f667f0c1-450f-46c6-8aa7-4d08f2dcd83c",
   "metadata": {
    "tags": []
   },
   "outputs": [],
   "source": [
    "# Print data's column names \n",
    "\n",
    "df.columns"
   ]
  },
  {
   "cell_type": "code",
   "execution_count": null,
   "id": "8f9cc09c-48dd-49c3-9980-a8e9040fbfbe",
   "metadata": {
    "tags": []
   },
   "outputs": [],
   "source": [
    "# List the data types in each column \n",
    "\n",
    "df.dtypes"
   ]
  },
  {
   "cell_type": "code",
   "execution_count": null,
   "id": "cebad059-05e3-45f4-ae05-b535bb232e0b",
   "metadata": {
    "tags": []
   },
   "outputs": [],
   "source": [
    "type(df.dtypes)"
   ]
  },
  {
   "cell_type": "code",
   "execution_count": null,
   "id": "aef1cee0-bf25-4f69-bac9-6dfae295ef68",
   "metadata": {
    "tags": []
   },
   "outputs": [],
   "source": [
    "# Print the data frame's shape: output is a tupe (# of rows, # of columns) \n",
    "df.shape"
   ]
  },
  {
   "cell_type": "markdown",
   "id": "3ea18e07-52bd-4e20-a167-1b2911dc6bbf",
   "metadata": {},
   "source": [
    "## Selecting a single column \n",
    "\n",
    "Simplest case: selecting a single column by column name. \n",
    "\n",
    "General syntax: \n",
    "\n",
    "```\n",
    "df['column_name']\n",
    "```\n",
    "\n",
    "This is an example of label-based subsetting which means we select data from our data frame using the names of the columns not their position"
   ]
  },
  {
   "cell_type": "markdown",
   "id": "a04e908b-222d-4c15-81f7-a686e7be4c5b",
   "metadata": {},
   "source": [
    "### Example"
   ]
  },
  {
   "cell_type": "code",
   "execution_count": null,
   "id": "7c63d190-084e-4f70-b309-ca70c62cbdc7",
   "metadata": {
    "tags": []
   },
   "outputs": [],
   "source": [
    "# Select number of bird species observed at Mugu Lagoon in spring \n",
    "\n",
    "mul_spring = df['MUL_spring']\n",
    "\n",
    "mul_spring"
   ]
  },
  {
   "cell_type": "code",
   "execution_count": null,
   "id": "f2b18d34-896d-46cb-aa4f-06145f19efbc",
   "metadata": {
    "tags": []
   },
   "outputs": [],
   "source": [
    "type(mul_spring)"
   ]
  },
  {
   "cell_type": "markdown",
   "id": "64d453bd-808b-4d16-a331-3874af189ec1",
   "metadata": {},
   "source": [
    "We can do label-based subsetting of a single column using attribute syntax\n",
    "\n",
    "`df.column_name`\n",
    "\n",
    "## Example "
   ]
  },
  {
   "cell_type": "code",
   "execution_count": null,
   "id": "c4ff862f-1c09-4de5-ab7b-b72d322a7111",
   "metadata": {
    "tags": []
   },
   "outputs": [],
   "source": [
    "df.MUL_spring"
   ]
  },
  {
   "cell_type": "markdown",
   "id": "1fee00bf-ef57-4860-b0ac-d099b90bdaba",
   "metadata": {},
   "source": [
    "Favor `df['column_name']` instead of `df.columnname`\n",
    "\n",
    "Why? \n",
    "\n",
    "column name = attribute \n",
    "column name has a space \n",
    "\n",
    "## Selecting multiple columns...\n",
    "\n",
    "... using a list of column names. \n",
    "\n",
    "Syntax: \n",
    "\n",
    "````\n",
    "d[ ['col1', 'col2', 'col3'] ] \n",
    "````\n",
    "\n",
    "Notice there are double square brackets. We are passing a list of names ['col1', 'col2', 'col3'] to the selection brackets `[]`\n",
    "\n",
    "### Example "
   ]
  },
  {
   "cell_type": "code",
   "execution_count": null,
   "id": "fd0fcc16-ce61-4b96-b2a8-2673761c3bde",
   "metadata": {
    "tags": []
   },
   "outputs": [],
   "source": [
    "# Select species abundance in Tijuana estuary during winter and fall\n",
    "\n",
    "tje_wf = df[['TJE_winter', 'TJE_fall']]"
   ]
  },
  {
   "cell_type": "code",
   "execution_count": null,
   "id": "5406511d-43b6-4290-b72a-0206d034e60b",
   "metadata": {
    "tags": []
   },
   "outputs": [],
   "source": [
    "# Check the type of tje_wf \n",
    "\n",
    "type(tje_wf)\n",
    "\n",
    "# Check the shape : 2 x 14 \n",
    "\n",
    "print(tje_wf.shape)"
   ]
  },
  {
   "cell_type": "markdown",
   "id": "0b95e42b-14fe-4323-b85f-711f368b42a9",
   "metadata": {},
   "source": [
    "### ... using a slice \n",
    "\n",
    "To select a slice of the columns, we will use a special case of the `loc` selection. \n",
    "\n",
    "Syntax: \n",
    "\n",
    "```\n",
    "df.loc[ : , 'column_start' : 'column_name' ] \n",
    "\n",
    "```\n",
    "\n",
    "`column_start` and `column_end` = starting and ending point of column slice, slice includes both endpoints. \n",
    "\n",
    "- the first value passed to `loc` is used to select rows, using a `:` as the row-selecting parameter means \"select all the rows\" \n",
    "\n",
    "## Example "
   ]
  },
  {
   "cell_type": "code",
   "execution_count": null,
   "id": "ba20482e-2ac8-46eb-ba1c-7f3fa2eafbca",
   "metadata": {
    "tags": []
   },
   "outputs": [],
   "source": [
    "# Select columns between csm_winter and mul_fall \n",
    "\n",
    "csm_mul = df.loc[ : , 'CSM_winter': 'MUL_fall']\n",
    "csm_mul.head() "
   ]
  },
  {
   "cell_type": "markdown",
   "id": "6aa0780c-52e7-48b4-bcb2-1cba33c875cc",
   "metadata": {},
   "source": [
    "## Selecting rows ... \n",
    "\n",
    "### ... using a condition \n",
    "\n",
    "Syntax: \n",
    "\n",
    "``` \n",
    "df[condition_on_rows]\n",
    "```\n",
    "\n",
    "That `condition_on_rows` can be many things. \n",
    "\n",
    "### Example \n",
    "\n",
    "We are interested in all data after 2020 "
   ]
  },
  {
   "cell_type": "code",
   "execution_count": null,
   "id": "105c4f17-9623-4a26-9dd9-e7867c6c5163",
   "metadata": {
    "tags": []
   },
   "outputs": [],
   "source": [
    "# Select all rows with year > 2020\n",
    "\n",
    "post_2020 = df[df['year'] > 2020]\n",
    "post_2020 "
   ]
  },
  {
   "cell_type": "markdown",
   "id": "601aa286-7e9d-4d4e-988d-3014772ee5da",
   "metadata": {},
   "source": [
    " condition for our row = `df[df['year'] > 2020]` this is a `pandas.Series` with boolean values which indicates which rows satisfy the condition year >2020"
   ]
  },
  {
   "cell_type": "code",
   "execution_count": null,
   "id": "de65b153-1c7b-46ff-a90b-5f60d7324422",
   "metadata": {
    "tags": []
   },
   "outputs": [],
   "source": [
    "# Check the type of df['year'] > 2020 \n",
    "\n",
    "print(type(df['year'] > 2020)) \n",
    "      \n",
    "# Print the boolean series \n",
    "\n",
    "df['year'] > 2020"
   ]
  },
  {
   "cell_type": "markdown",
   "id": "a23731d1-8fbc-4f3e-925f-6517f4f6062a",
   "metadata": {},
   "source": [
    "### Check in \n",
    "\n",
    "Get the subset of the dataframe in which the San Dieguito Wetland has at least 75 species during spring.\n"
   ]
  },
  {
   "cell_type": "code",
   "execution_count": null,
   "id": "0e195405-824c-46ca-bbea-5302f4e45e2a",
   "metadata": {
    "tags": []
   },
   "outputs": [],
   "source": [
    "df[df['SDW_spring'] >= 75]"
   ]
  },
  {
   "cell_type": "markdown",
   "id": "8a1e674d-91ea-46f7-8c5c-2fef79e836bd",
   "metadata": {},
   "source": [
    "### Example \n",
    "\n",
    "Suppose we want to look at data from 2012 to 2015 (including both years). "
   ]
  },
  {
   "cell_type": "code",
   "execution_count": null,
   "id": "9078ae51-c647-4f1a-8943-26a0f4469145",
   "metadata": {
    "tags": []
   },
   "outputs": [],
   "source": [
    "subset = df[df['year'].between(2012, 2015)]\n",
    "subset"
   ]
  },
  {
   "cell_type": "markdown",
   "id": "9ab748a9-3888-4965-a1e2-d051c7efe5be",
   "metadata": {},
   "source": [
    "- `df['year']` = column with year values, this is a pandas.Series \n",
    "- `df['year'].between` we have the between(), this is a method for pandas.Series. Calling it using '.'. \n",
    "- (2012, 2015) paramaters. If we look at the documentation, we can see the method includes both endpoints. \n",
    "`df['year'].between(2012, 2015)` is a pandas.series of boolean values indoicating which ropws have year equal to 2012, 2013, 2014, 2015\n",
    "\n",
    "- we obtain rows we need. \n",
    "\n",
    "## Avoid using `loc` for selecting only rows \n",
    "\n",
    "It is equivalent to write \n",
    "\n",
    "```\n",
    "# Select rows with year < 2015 \n",
    "\n",
    "df[df['year'] < 2015]\n",
    "\n",
    "```\n",
    "\n",
    "and \n",
    "\n",
    "```\n",
    "df.loc[df['year'] < 2015, : ] \n",
    "\n",
    "```\n",
    "\n",
    "In the second one: \n",
    "\n",
    "- using the `df.loc[row-selection, column - selection]'\n",
    "- the row selection is the condition `df['year']<2015`\n",
    "- the column selection is `:` = all columns \n",
    "\n"
   ]
  },
  {
   "cell_type": "markdown",
   "id": "5b9ba2fe-5c35-47c1-900a-574512a20268",
   "metadata": {},
   "source": [
    "### .... using multiple conditions \n",
    "\n",
    "We can combine conditions to select rows by surrounding each in parenthesis `()` and using the or operator `|` and the and operator `&` \n",
    "\n",
    "## Example of OR "
   ]
  },
  {
   "cell_type": "code",
   "execution_count": null,
   "id": "a764f08f-58ee-457a-a68d-73de5d5742a8",
   "metadata": {
    "tags": []
   },
   "outputs": [],
   "source": [
    "# Selecting rows in CSM with more than 50 species in winter or fall \n",
    "\n",
    "df[(df['CSM_winter'] > 50) | (df['CSM_fall'] > 50) ]"
   ]
  },
  {
   "cell_type": "markdown",
   "id": "3d1d68a1-f25d-4cd9-b19f-81adfb14692f",
   "metadata": {},
   "source": [
    "Select rows in which both CSM and SDW have more than 60 bird species during spring."
   ]
  },
  {
   "cell_type": "code",
   "execution_count": null,
   "id": "ffcb9b0b-0ae4-4578-8941-9a23fb6f87c3",
   "metadata": {
    "tags": []
   },
   "outputs": [],
   "source": [
    "df[(df['CSM_spring'] > 60 ) & (df['SDW_spring'] > 60 ) ] "
   ]
  },
  {
   "cell_type": "markdown",
   "id": "d4253dd5-8c59-4dd6-a36b-208d00e0928e",
   "metadata": {},
   "source": [
    "Nothing fits conditions above "
   ]
  },
  {
   "cell_type": "markdown",
   "id": "81c4d94c-d89d-4d92-8064-c4796c37ab57",
   "metadata": {},
   "source": [
    "## Selecting rows by position \n",
    "\n",
    "Sometimes we may want to select rows based on their actual position in the data frame. \n",
    "\n",
    "This is position based subsetting; we use iloc selection"
   ]
  },
  {
   "cell_type": "code",
   "execution_count": null,
   "id": "98606233-2305-4639-996c-c7d2f73e2172",
   "metadata": {},
   "outputs": [],
   "source": [
    "# Select the fifth row (index = 4 )\n",
    "\n",
    "df.iloc[4]"
   ]
  },
  {
   "cell_type": "code",
   "execution_count": null,
   "id": "f55ccdad-6578-47df-aab8-a19c616e4d04",
   "metadata": {},
   "outputs": [],
   "source": [
    "df2 = df.set_index('year') \n",
    "df2 "
   ]
  },
  {
   "cell_type": "code",
   "execution_count": null,
   "id": "6f596ed7-4157-4f91-b039-e7edb0b0762e",
   "metadata": {},
   "outputs": [],
   "source": [
    "# Selecting 5th row by index label \n",
    "\n",
    "df2.loc['2014']"
   ]
  },
  {
   "cell_type": "code",
   "execution_count": null,
   "id": "675afdeb-6bda-4bc5-90f2-de9981578f45",
   "metadata": {},
   "outputs": [],
   "source": [
    "# Gives you 5th row\n",
    "\n",
    "df.2loc[4]"
   ]
  },
  {
   "cell_type": "markdown",
   "id": "70e6762c-8260-497c-b5d7-0e1aee39dc7e",
   "metadata": {},
   "source": [
    "## Select rows and columns simultaneously \n",
    "\n",
    "Can be done using `loc` (labels) or `iloc` (positions)\n",
    "\n",
    "### ... by labels or conditions\n",
    "\n",
    "Syntax : `df.loc[row-selection, column-selection]\n",
    "\n",
    "## Example\n",
    "\n",
    "Select winter surveys for Mugu Lagoon and Tijuana Estuary after 2020"
   ]
  },
  {
   "cell_type": "code",
   "execution_count": null,
   "id": "4ab7a72e-96ab-4b15-af79-15b7baab05ed",
   "metadata": {},
   "outputs": [],
   "source": [
    "df.loc[df['year']> 2020 ,['MUL_winter', 'TJE_winter']] "
   ]
  },
  {
   "cell_type": "markdown",
   "id": "36a0d56c-4ea8-4b25-b7b0-bf6f399ed29b",
   "metadata": {},
   "source": [
    "### ... by position \n",
    "\n",
    "use `i.loc`\n",
    "\n",
    "Syntax: df.iloc[row-indices, column indices]\n",
    "\n",
    "\n",
    "### Example \n",
    "\n",
    "Suppose we want to select rows 3-7  (including 7) and fourth and fifth columns \n"
   ]
  },
  {
   "cell_type": "code",
   "execution_count": null,
   "id": "a77b3798-aca5-4817-9566-59d477dfcfbd",
   "metadata": {},
   "outputs": [],
   "source": [
    "df.iloc[3:8, [3,4]]"
   ]
  },
  {
   "cell_type": "markdown",
   "id": "1b73b7b4-ee9b-4f23-a887-98113724f08e",
   "metadata": {},
   "source": [
    "## `iloc` column selection? \n",
    "\n",
    "### Example \n",
    "\n",
    "Suppose that we want to access the 9th column in `df`. \n",
    "In this case, we already know this column is the San Dieguito Wetland during spring."
   ]
  },
  {
   "cell_type": "code",
   "execution_count": null,
   "id": "deb5afea-b8e4-4af7-aaa3-18170f04b6bb",
   "metadata": {},
   "outputs": [],
   "source": [
    "df.iloc[:, 8]"
   ]
  },
  {
   "cell_type": "code",
   "execution_count": null,
   "id": "2a4cfabf-076e-4ca1-965a-671534556c32",
   "metadata": {},
   "outputs": [],
   "source": []
  }
 ],
 "metadata": {
  "kernelspec": {
   "display_name": "EDS220",
   "language": "python",
   "name": "eds220-env"
  },
  "language_info": {
   "codemirror_mode": {
    "name": "ipython",
    "version": 3
   },
   "file_extension": ".py",
   "mimetype": "text/x-python",
   "name": "python",
   "nbconvert_exporter": "python",
   "pygments_lexer": "ipython3",
   "version": "3.11.4"
  }
 },
 "nbformat": 4,
 "nbformat_minor": 5
}
