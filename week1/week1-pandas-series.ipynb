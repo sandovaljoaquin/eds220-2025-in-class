{
 "cells": [
  {
   "cell_type": "markdown",
   "id": "0d2e5e85-8b1c-4cc3-acd4-64f4c4bf9578",
   "metadata": {},
   "source": [
    "### 1 `pandas` series and data frames \n",
    "\n",
    "introduce two core objects in the `pandas` library, the `pandas.Series` and the `pandas.DataFrame`. \n",
    "We want to gain familiarity with these two objects, understand their relation to each other, and review Python data structures with dictionaries and lists.\n"
   ]
  },
  {
   "cell_type": "markdown",
   "id": "530f3165-29a0-4f06-9faf-9acddf04bf28",
   "metadata": {},
   "source": [
    "### `pandas`\n",
    "\n",
    "`pandas` is a Python package to wrangle and analyze tabular data. It is built on top of NumPy and has become the core tool for doing data analysis in Python. The standard abbreviation for `pandas` is `pd`.\n"
   ]
  },
  {
   "cell_type": "code",
   "execution_count": 14,
   "id": "15960e5a-bd97-4326-952f-b1bb940361df",
   "metadata": {
    "tags": []
   },
   "outputs": [],
   "source": [
    "# Always import packages in a single cell, each package should be in a new line\n",
    "\n",
    "import pandas as pd\n",
    "import numpy as np"
   ]
  },
  {
   "cell_type": "markdown",
   "id": "b663efa5-9183-4144-a253-369fa138c45d",
   "metadata": {},
   "source": [
    "### Series \n",
    "\n",
    "The first core object of pandas is the series. A series is a one-dimensional array of indexed data\n",
    "\n",
    "A `pandas.Series` having an index is the main difference between a `pandas.Series` and a NumPy array."
   ]
  },
  {
   "cell_type": "code",
   "execution_count": 2,
   "id": "c0d7bec7-2ca1-4fc4-b15b-19fb6b01cf79",
   "metadata": {
    "tags": []
   },
   "outputs": [
    {
     "name": "stdout",
     "output_type": "stream",
     "text": [
      "<class 'numpy.ndarray'>\n",
      "[ 1.09796344  1.36370408  0.08745993 -0.72353854] \n",
      "\n"
     ]
    }
   ],
   "source": [
    "# A numpy array \n",
    "\n",
    "array = np.random.randn(4) # random values from std normal distribution \n",
    "print(type(array))\n",
    "print(array, \"\\n\")"
   ]
  },
  {
   "cell_type": "code",
   "execution_count": 4,
   "id": "0ec04561-202d-4ee6-8e74-49f3524fd17a",
   "metadata": {
    "tags": []
   },
   "outputs": [
    {
     "name": "stdout",
     "output_type": "stream",
     "text": [
      "<class 'pandas.core.series.Series'>\n",
      "0    1.097963\n",
      "1    1.363704\n",
      "2    0.087460\n",
      "3   -0.723539\n",
      "dtype: float64\n"
     ]
    }
   ],
   "source": [
    "# A pandas series made from the previous array \n",
    "\n",
    "s = pd.Series(array)\n",
    "print(type(s))\n",
    "print(s)"
   ]
  },
  {
   "cell_type": "markdown",
   "id": "12497b1c-9081-4c23-be22-db656e1d1b2d",
   "metadata": {},
   "source": [
    "The index is printed as part of the `pandas.Series` while the np.array is indexable, the index is not apart of the data structure. Printing the `pandas.Series` also shows the values and data type."
   ]
  },
  {
   "cell_type": "markdown",
   "id": "2ddf30b9-7cf6-4274-9e99-3bab4c671f36",
   "metadata": {},
   "source": [
    "### Creating a `pandas.Series`\n",
    "\n",
    "the basic method to creating a pandas series is to call: \n",
    "\n",
    "s = pd.Series(data, index = index) \n",
    "\n",
    "Data can be a list or a NumPy array, python dictionary, single number, boolean (True/False) string.\n",
    "\n",
    "The index parameter is optional "
   ]
  },
  {
   "cell_type": "code",
   "execution_count": 10,
   "id": "93b09fbb-3312-4036-9c17-90d7b5b2c01c",
   "metadata": {
    "tags": []
   },
   "outputs": [
    {
     "data": {
      "text/plain": [
       "2023    0\n",
       "2024    1\n",
       "2025    2\n",
       "dtype: int64"
      ]
     },
     "execution_count": 10,
     "metadata": {},
     "output_type": "execute_result"
    }
   ],
   "source": [
    "# A series from a numpy array \n",
    "pd.Series(np.arange(3), index=[2023, 2024, 2025])"
   ]
  },
  {
   "cell_type": "code",
   "execution_count": 11,
   "id": "84329201-aec1-4380-8b89-8d488fb7c11d",
   "metadata": {
    "tags": []
   },
   "outputs": [
    {
     "data": {
      "text/plain": [
       "0    EDS 220\n",
       "1    EDS 222\n",
       "2    EDS 223\n",
       "3    EDS 242\n",
       "dtype: object"
      ]
     },
     "execution_count": 11,
     "metadata": {},
     "output_type": "execute_result"
    }
   ],
   "source": [
    "# A series from a list of strings with default index \n",
    "\n",
    "pd.Series(['EDS 220', 'EDS 222', 'EDS 223', 'EDS 242'])"
   ]
  },
  {
   "cell_type": "markdown",
   "id": "cc5611ce-ed57-47bf-bfbf-3873f560da7e",
   "metadata": {},
   "source": [
    "Example: Creating a `pandas.Series` from a dictionary\n",
    "\n",
    "a dictionary is a set of key-value pairs. If we create a `pandas.Series` via a dictionary, the keys will become the index and the values the corresponding data."
   ]
  },
  {
   "cell_type": "code",
   "execution_count": 13,
   "id": "23659334-d52b-4674-9c08-d142c996b184",
   "metadata": {
    "tags": []
   },
   "outputs": [
    {
     "data": {
      "text/plain": [
       "key_0    2\n",
       "key_1    3\n",
       "key_2    5\n",
       "dtype: int64"
      ]
     },
     "execution_count": 13,
     "metadata": {},
     "output_type": "execute_result"
    }
   ],
   "source": [
    "# Construct a dictionary \n",
    "\n",
    "d = {'key_0': 2,\n",
    "     'key_1': 3,\n",
    "     'key_2': 5}\n",
    "\n",
    "#Initialize series using a dictionary\n",
    "\n",
    "pd.Series(d)"
   ]
  },
  {
   "cell_type": "markdown",
   "id": "4d4a1c58-f51e-4e2f-b0a4-900d3b14c60c",
   "metadata": {},
   "source": [
    "Creating a panda series with a single value: \n",
    "\n",
    "if we only provide a single number, boolean, or string as the data, we need to provide an index. "
   ]
  },
  {
   "cell_type": "code",
   "execution_count": 3,
   "id": "451cfac6-94a5-42a6-a6a6-92618452b7aa",
   "metadata": {
    "tags": []
   },
   "outputs": [
    {
     "data": {
      "text/plain": [
       "A    3.0\n",
       "B    3.0\n",
       "C    3.0\n",
       "dtype: float64"
      ]
     },
     "execution_count": 3,
     "metadata": {},
     "output_type": "execute_result"
    }
   ],
   "source": [
    "pd.Series(3.0, index = ['A', 'B', 'C'])"
   ]
  },
  {
   "cell_type": "markdown",
   "id": "b7a37b2a-6d5c-4839-8333-1a1c6b88b03e",
   "metadata": {},
   "source": [
    "Simple Operations\n",
    "\n",
    "Arithmetic operations work on series and most NumPy functions: "
   ]
  },
  {
   "cell_type": "code",
   "execution_count": 4,
   "id": "bf5b3674-1693-4dec-b36b-d44eaff40a7f",
   "metadata": {
    "tags": []
   },
   "outputs": [
    {
     "name": "stdout",
     "output_type": "stream",
     "text": [
      "Andrea      9.8\n",
      "Beth        7.3\n",
      "Carolina    6.5\n",
      "dtype: float64 \n",
      "\n",
      "Andrea      3.637971e+42\n",
      "Beth        5.052394e+31\n",
      "Carolina    1.694889e+28\n",
      "dtype: float64 \n",
      "\n",
      "Andrea      98\n",
      "Beth        73\n",
      "Carolina    65\n",
      "dtype: int64\n"
     ]
    }
   ],
   "source": [
    "# Define a series :\n",
    "\n",
    "s = pd.Series([98, 73, 65], index = ['Andrea', 'Beth', 'Carolina'])\n",
    "\n",
    "# Divide each element in series by 10\n",
    "\n",
    "print(s/10, '\\n')\n",
    "\n",
    "# Take exponential of each element in a series\n",
    "print(np.exp(s), '\\n')\n",
    "\n",
    "# Orginal series is unchanged \n",
    "print(s)"
   ]
  },
  {
   "cell_type": "code",
   "execution_count": 5,
   "id": "63253b57-8ef0-4b60-bafa-839464151ff5",
   "metadata": {
    "tags": []
   },
   "outputs": [
    {
     "data": {
      "text/plain": [
       "Andrea       True\n",
       "Beth         True\n",
       "Carolina    False\n",
       "dtype: bool"
      ]
     },
     "execution_count": 5,
     "metadata": {},
     "output_type": "execute_result"
    }
   ],
   "source": [
    "s > 70"
   ]
  },
  {
   "cell_type": "markdown",
   "id": "bb4a9b59-e459-4626-a6c4-095df85b42e3",
   "metadata": {},
   "source": [
    "### Identifying missing values \n",
    "\n",
    "In pandas, we can represent a missing, NULL, or NA value with a float value numpy.nan which stands for not a number. "
   ]
  },
  {
   "cell_type": "code",
   "execution_count": 6,
   "id": "d67aa48b-80ec-45f3-ade3-88b329d85530",
   "metadata": {
    "tags": []
   },
   "outputs": [
    {
     "data": {
      "text/plain": [
       "0    1.0\n",
       "1    2.0\n",
       "2    NaN\n",
       "3    4.0\n",
       "4    NaN\n",
       "dtype: float64"
      ]
     },
     "execution_count": 6,
     "metadata": {},
     "output_type": "execute_result"
    }
   ],
   "source": [
    "# Series with NAs in it\n",
    "\n",
    "s = pd.Series([1, 2, np.nan, 4, np.nan]) \n",
    "s"
   ]
  },
  {
   "cell_type": "markdown",
   "id": "35f9bb1b-da93-4dec-a33e-035cbedc901a",
   "metadata": {},
   "source": [
    "The hasnas attribute for pandas.Series returns `TRUE` if there are any NA values in it and false otherwise "
   ]
  },
  {
   "cell_type": "code",
   "execution_count": 8,
   "id": "7da4e6c1-63d2-4256-ba9d-f5083bee7a39",
   "metadata": {
    "tags": []
   },
   "outputs": [
    {
     "data": {
      "text/plain": [
       "True"
      ]
     },
     "execution_count": 8,
     "metadata": {},
     "output_type": "execute_result"
    }
   ],
   "source": [
    "# Check if series has NAs\n",
    "\n",
    "s.hasnans"
   ]
  },
  {
   "cell_type": "markdown",
   "id": "47116298-0ad4-413c-be1a-cf1e388216b6",
   "metadata": {},
   "source": [
    "Can use `isna()` method to know which elements in a series are NAs"
   ]
  },
  {
   "cell_type": "code",
   "execution_count": 9,
   "id": "535908dd-9d30-486a-9030-57fc9105d08f",
   "metadata": {
    "tags": []
   },
   "outputs": [
    {
     "data": {
      "text/plain": [
       "0    False\n",
       "1    False\n",
       "2     True\n",
       "3    False\n",
       "4     True\n",
       "dtype: bool"
      ]
     },
     "execution_count": 9,
     "metadata": {},
     "output_type": "execute_result"
    }
   ],
   "source": [
    "s.isna()"
   ]
  },
  {
   "cell_type": "markdown",
   "id": "2a12643a-1d45-42ec-b8db-e08b256f1db4",
   "metadata": {},
   "source": [
    "1. The integer number -999 is often used to represent missing values. Create a pandas.Series named s with four integer values, two of which are -999. The index of this series should be letters A through D.\n",
    "\n",
    "2. In the pandas.Series documentation, look for the method `mask()` to update the series s so that the -999 values are replaced by NA values. "
   ]
  },
  {
   "cell_type": "code",
   "execution_count": 4,
   "id": "5fea9e9e-ad2a-4917-ad5c-ad3ad586e5ad",
   "metadata": {
    "tags": []
   },
   "outputs": [
    {
     "data": {
      "text/plain": [
       "A      1\n",
       "B   -999\n",
       "C      2\n",
       "D   -999\n",
       "dtype: int64"
      ]
     },
     "execution_count": 4,
     "metadata": {},
     "output_type": "execute_result"
    }
   ],
   "source": [
    "s = pd.Series([1, -999, 2, -999], index = ['A', 'B', 'C', 'D'])\n",
    "s"
   ]
  },
  {
   "cell_type": "code",
   "execution_count": 10,
   "id": "c50cd857-b432-4e51-b180-fdaa47dd6576",
   "metadata": {},
   "outputs": [
    {
     "data": {
      "text/plain": [
       "\u001b[0;31mSignature:\u001b[0m\n",
       "\u001b[0ms\u001b[0m\u001b[0;34m.\u001b[0m\u001b[0mmask\u001b[0m\u001b[0;34m(\u001b[0m\u001b[0;34m\u001b[0m\n",
       "\u001b[0;34m\u001b[0m    \u001b[0mcond\u001b[0m\u001b[0;34m,\u001b[0m\u001b[0;34m\u001b[0m\n",
       "\u001b[0;34m\u001b[0m    \u001b[0mother\u001b[0m\u001b[0;34m=\u001b[0m\u001b[0;34m<\u001b[0m\u001b[0mno_default\u001b[0m\u001b[0;34m>\u001b[0m\u001b[0;34m,\u001b[0m\u001b[0;34m\u001b[0m\n",
       "\u001b[0;34m\u001b[0m    \u001b[0;34m*\u001b[0m\u001b[0;34m,\u001b[0m\u001b[0;34m\u001b[0m\n",
       "\u001b[0;34m\u001b[0m    \u001b[0minplace\u001b[0m\u001b[0;34m:\u001b[0m \u001b[0;34m'bool_t'\u001b[0m \u001b[0;34m=\u001b[0m \u001b[0;32mFalse\u001b[0m\u001b[0;34m,\u001b[0m\u001b[0;34m\u001b[0m\n",
       "\u001b[0;34m\u001b[0m    \u001b[0maxis\u001b[0m\u001b[0;34m:\u001b[0m \u001b[0;34m'Axis | None'\u001b[0m \u001b[0;34m=\u001b[0m \u001b[0;32mNone\u001b[0m\u001b[0;34m,\u001b[0m\u001b[0;34m\u001b[0m\n",
       "\u001b[0;34m\u001b[0m    \u001b[0mlevel\u001b[0m\u001b[0;34m:\u001b[0m \u001b[0;34m'Level | None'\u001b[0m \u001b[0;34m=\u001b[0m \u001b[0;32mNone\u001b[0m\u001b[0;34m,\u001b[0m\u001b[0;34m\u001b[0m\n",
       "\u001b[0;34m\u001b[0m\u001b[0;34m)\u001b[0m \u001b[0;34m->\u001b[0m \u001b[0;34m'Self | None'\u001b[0m\u001b[0;34m\u001b[0m\u001b[0;34m\u001b[0m\u001b[0m\n",
       "\u001b[0;31mDocstring:\u001b[0m\n",
       "Replace values where the condition is True.\n",
       "\n",
       "Parameters\n",
       "----------\n",
       "cond : bool Series/DataFrame, array-like, or callable\n",
       "    Where `cond` is False, keep the original value. Where\n",
       "    True, replace with corresponding value from `other`.\n",
       "    If `cond` is callable, it is computed on the Series/DataFrame and\n",
       "    should return boolean Series/DataFrame or array. The callable must\n",
       "    not change input Series/DataFrame (though pandas doesn't check it).\n",
       "other : scalar, Series/DataFrame, or callable\n",
       "    Entries where `cond` is True are replaced with\n",
       "    corresponding value from `other`.\n",
       "    If other is callable, it is computed on the Series/DataFrame and\n",
       "    should return scalar or Series/DataFrame. The callable must not\n",
       "    change input Series/DataFrame (though pandas doesn't check it).\n",
       "    If not specified, entries will be filled with the corresponding\n",
       "    NULL value (``np.nan`` for numpy dtypes, ``pd.NA`` for extension\n",
       "    dtypes).\n",
       "inplace : bool, default False\n",
       "    Whether to perform the operation in place on the data.\n",
       "axis : int, default None\n",
       "    Alignment axis if needed. For `Series` this parameter is\n",
       "    unused and defaults to 0.\n",
       "level : int, default None\n",
       "    Alignment level if needed.\n",
       "\n",
       "Returns\n",
       "-------\n",
       "Same type as caller or None if ``inplace=True``.\n",
       "\n",
       "See Also\n",
       "--------\n",
       ":func:`DataFrame.where` : Return an object of same shape as\n",
       "    self.\n",
       "\n",
       "Notes\n",
       "-----\n",
       "The mask method is an application of the if-then idiom. For each\n",
       "element in the calling DataFrame, if ``cond`` is ``False`` the\n",
       "element is used; otherwise the corresponding element from the DataFrame\n",
       "``other`` is used. If the axis of ``other`` does not align with axis of\n",
       "``cond`` Series/DataFrame, the misaligned index positions will be filled with\n",
       "True.\n",
       "\n",
       "The signature for :func:`DataFrame.where` differs from\n",
       ":func:`numpy.where`. Roughly ``df1.where(m, df2)`` is equivalent to\n",
       "``np.where(m, df1, df2)``.\n",
       "\n",
       "For further details and examples see the ``mask`` documentation in\n",
       ":ref:`indexing <indexing.where_mask>`.\n",
       "\n",
       "The dtype of the object takes precedence. The fill value is casted to\n",
       "the object's dtype, if this can be done losslessly.\n",
       "\n",
       "Examples\n",
       "--------\n",
       ">>> s = pd.Series(range(5))\n",
       ">>> s.where(s > 0)\n",
       "0    NaN\n",
       "1    1.0\n",
       "2    2.0\n",
       "3    3.0\n",
       "4    4.0\n",
       "dtype: float64\n",
       ">>> s.mask(s > 0)\n",
       "0    0.0\n",
       "1    NaN\n",
       "2    NaN\n",
       "3    NaN\n",
       "4    NaN\n",
       "dtype: float64\n",
       "\n",
       ">>> s = pd.Series(range(5))\n",
       ">>> t = pd.Series([True, False])\n",
       ">>> s.where(t, 99)\n",
       "0     0\n",
       "1    99\n",
       "2    99\n",
       "3    99\n",
       "4    99\n",
       "dtype: int64\n",
       ">>> s.mask(t, 99)\n",
       "0    99\n",
       "1     1\n",
       "2    99\n",
       "3    99\n",
       "4    99\n",
       "dtype: int64\n",
       "\n",
       ">>> s.where(s > 1, 10)\n",
       "0    10\n",
       "1    10\n",
       "2    2\n",
       "3    3\n",
       "4    4\n",
       "dtype: int64\n",
       ">>> s.mask(s > 1, 10)\n",
       "0     0\n",
       "1     1\n",
       "2    10\n",
       "3    10\n",
       "4    10\n",
       "dtype: int64\n",
       "\n",
       ">>> df = pd.DataFrame(np.arange(10).reshape(-1, 2), columns=['A', 'B'])\n",
       ">>> df\n",
       "   A  B\n",
       "0  0  1\n",
       "1  2  3\n",
       "2  4  5\n",
       "3  6  7\n",
       "4  8  9\n",
       ">>> m = df % 3 == 0\n",
       ">>> df.where(m, -df)\n",
       "   A  B\n",
       "0  0 -1\n",
       "1 -2  3\n",
       "2 -4 -5\n",
       "3  6 -7\n",
       "4 -8  9\n",
       ">>> df.where(m, -df) == np.where(m, df, -df)\n",
       "      A     B\n",
       "0  True  True\n",
       "1  True  True\n",
       "2  True  True\n",
       "3  True  True\n",
       "4  True  True\n",
       ">>> df.where(m, -df) == df.mask(~m, -df)\n",
       "      A     B\n",
       "0  True  True\n",
       "1  True  True\n",
       "2  True  True\n",
       "3  True  True\n",
       "4  True  True\n",
       "\u001b[0;31mFile:\u001b[0m      /opt/anaconda3/envs/eds220-env/lib/python3.11/site-packages/pandas/core/generic.py\n",
       "\u001b[0;31mType:\u001b[0m      method"
      ]
     },
     "metadata": {},
     "output_type": "display_data"
    }
   ],
   "source": [
    "?s.mask"
   ]
  },
  {
   "cell_type": "code",
   "execution_count": 12,
   "id": "53b3113b-505c-462a-b985-71cefcb2d861",
   "metadata": {
    "tags": []
   },
   "outputs": [
    {
     "data": {
      "text/plain": [
       "A    1.0\n",
       "B    NaN\n",
       "C    2.0\n",
       "D    NaN\n",
       "dtype: float64"
      ]
     },
     "execution_count": 12,
     "metadata": {},
     "output_type": "execute_result"
    }
   ],
   "source": [
    "s.mask(s == -999)"
   ]
  },
  {
   "cell_type": "markdown",
   "id": "3da85c4b-00a0-433c-9355-3e80473464af",
   "metadata": {},
   "source": [
    "### Data frames \n",
    "\n",
    "the `pandas.DataFrame` is the most used pandas object. It represents tabular data and we can think of it as a spreadsheet. Each column of a `pandas.DataFrame` is a `pandas.Series`.\n",
    "\n"
   ]
  },
  {
   "cell_type": "markdown",
   "id": "5123fca5-93c5-4f56-bfde-5a1d33bd03f4",
   "metadata": {},
   "source": [
    "### Creating a `pandas.DataFrame`\n",
    "\n",
    "pandas.DataFrame is a dictionary of pandas.Series, which each column name being the key and the column values being the key's value.\n",
    "\n",
    "We can create one in this way :"
   ]
  },
  {
   "cell_type": "code",
   "execution_count": 16,
   "id": "5c9a79a4-8370-4bf3-a340-14de438b92c2",
   "metadata": {
    "tags": []
   },
   "outputs": [
    {
     "data": {
      "text/html": [
       "<div>\n",
       "<style scoped>\n",
       "    .dataframe tbody tr th:only-of-type {\n",
       "        vertical-align: middle;\n",
       "    }\n",
       "\n",
       "    .dataframe tbody tr th {\n",
       "        vertical-align: top;\n",
       "    }\n",
       "\n",
       "    .dataframe thead th {\n",
       "        text-align: right;\n",
       "    }\n",
       "</style>\n",
       "<table border=\"1\" class=\"dataframe\">\n",
       "  <thead>\n",
       "    <tr style=\"text-align: right;\">\n",
       "      <th></th>\n",
       "      <th>col_name_1</th>\n",
       "      <th>col_name_2</th>\n",
       "    </tr>\n",
       "  </thead>\n",
       "  <tbody>\n",
       "    <tr>\n",
       "      <th>0</th>\n",
       "      <td>0</td>\n",
       "      <td>3.1</td>\n",
       "    </tr>\n",
       "    <tr>\n",
       "      <th>1</th>\n",
       "      <td>1</td>\n",
       "      <td>3.2</td>\n",
       "    </tr>\n",
       "    <tr>\n",
       "      <th>2</th>\n",
       "      <td>2</td>\n",
       "      <td>3.3</td>\n",
       "    </tr>\n",
       "  </tbody>\n",
       "</table>\n",
       "</div>"
      ],
      "text/plain": [
       "   col_name_1  col_name_2\n",
       "0           0         3.1\n",
       "1           1         3.2\n",
       "2           2         3.3"
      ]
     },
     "execution_count": 16,
     "metadata": {},
     "output_type": "execute_result"
    }
   ],
   "source": [
    "# Initialize the dictionary with columns' data \n",
    "\n",
    "d = {'col_name_1' : pd.Series(np.arange(3)), \n",
    "     'col_name_2' : pd.Series([3.1, 3.2, 3.3]), \n",
    "    }\n",
    "\n",
    "# Create a data frame\n",
    "\n",
    "df = pd.DataFrame(d)\n",
    "df"
   ]
  },
  {
   "cell_type": "markdown",
   "id": "9ca62e06-7442-4382-b179-d7b7f51d687f",
   "metadata": {},
   "source": [
    "We can change the index by changing the `index` attribute in the dataframe"
   ]
  },
  {
   "cell_type": "code",
   "execution_count": 17,
   "id": "a4ffc892-1f85-4078-86f4-a1facef998a4",
   "metadata": {
    "tags": []
   },
   "outputs": [
    {
     "data": {
      "text/html": [
       "<div>\n",
       "<style scoped>\n",
       "    .dataframe tbody tr th:only-of-type {\n",
       "        vertical-align: middle;\n",
       "    }\n",
       "\n",
       "    .dataframe tbody tr th {\n",
       "        vertical-align: top;\n",
       "    }\n",
       "\n",
       "    .dataframe thead th {\n",
       "        text-align: right;\n",
       "    }\n",
       "</style>\n",
       "<table border=\"1\" class=\"dataframe\">\n",
       "  <thead>\n",
       "    <tr style=\"text-align: right;\">\n",
       "      <th></th>\n",
       "      <th>col_name_1</th>\n",
       "      <th>col_name_2</th>\n",
       "    </tr>\n",
       "  </thead>\n",
       "  <tbody>\n",
       "    <tr>\n",
       "      <th>a</th>\n",
       "      <td>0</td>\n",
       "      <td>3.1</td>\n",
       "    </tr>\n",
       "    <tr>\n",
       "      <th>b</th>\n",
       "      <td>1</td>\n",
       "      <td>3.2</td>\n",
       "    </tr>\n",
       "    <tr>\n",
       "      <th>c</th>\n",
       "      <td>2</td>\n",
       "      <td>3.3</td>\n",
       "    </tr>\n",
       "  </tbody>\n",
       "</table>\n",
       "</div>"
      ],
      "text/plain": [
       "   col_name_1  col_name_2\n",
       "a           0         3.1\n",
       "b           1         3.2\n",
       "c           2         3.3"
      ]
     },
     "execution_count": 17,
     "metadata": {},
     "output_type": "execute_result"
    }
   ],
   "source": [
    "# Change the index \n",
    "\n",
    "df.index = ['a', 'b', 'c']\n",
    "df"
   ]
  },
  {
   "cell_type": "markdown",
   "id": "d14debfc-f660-4ff1-a5e1-024b0d76bb37",
   "metadata": {},
   "source": [
    "We can access the data frame's column names via the columns attribute. Update the column names to C1 and C2 by updating this attribute "
   ]
  },
  {
   "cell_type": "code",
   "execution_count": 24,
   "id": "54c585b9-e24d-4b4b-941e-837347766c86",
   "metadata": {
    "tags": []
   },
   "outputs": [
    {
     "data": {
      "text/html": [
       "<div>\n",
       "<style scoped>\n",
       "    .dataframe tbody tr th:only-of-type {\n",
       "        vertical-align: middle;\n",
       "    }\n",
       "\n",
       "    .dataframe tbody tr th {\n",
       "        vertical-align: top;\n",
       "    }\n",
       "\n",
       "    .dataframe thead th {\n",
       "        text-align: right;\n",
       "    }\n",
       "</style>\n",
       "<table border=\"1\" class=\"dataframe\">\n",
       "  <thead>\n",
       "    <tr style=\"text-align: right;\">\n",
       "      <th></th>\n",
       "      <th>C1</th>\n",
       "      <th>C2</th>\n",
       "    </tr>\n",
       "  </thead>\n",
       "  <tbody>\n",
       "    <tr>\n",
       "      <th>a</th>\n",
       "      <td>0</td>\n",
       "      <td>3.1</td>\n",
       "    </tr>\n",
       "    <tr>\n",
       "      <th>b</th>\n",
       "      <td>1</td>\n",
       "      <td>3.2</td>\n",
       "    </tr>\n",
       "    <tr>\n",
       "      <th>c</th>\n",
       "      <td>2</td>\n",
       "      <td>3.3</td>\n",
       "    </tr>\n",
       "  </tbody>\n",
       "</table>\n",
       "</div>"
      ],
      "text/plain": [
       "   C1   C2\n",
       "a   0  3.1\n",
       "b   1  3.2\n",
       "c   2  3.3"
      ]
     },
     "execution_count": 24,
     "metadata": {},
     "output_type": "execute_result"
    }
   ],
   "source": [
    "df.columns = ['C1', 'C2']\n",
    "df\n",
    "#"
   ]
  }
 ],
 "metadata": {
  "kernelspec": {
   "display_name": "EDS220",
   "language": "python",
   "name": "eds220-env"
  },
  "language_info": {
   "codemirror_mode": {
    "name": "ipython",
    "version": 3
   },
   "file_extension": ".py",
   "mimetype": "text/x-python",
   "name": "python",
   "nbconvert_exporter": "python",
   "pygments_lexer": "ipython3",
   "version": "3.11.4"
  }
 },
 "nbformat": 4,
 "nbformat_minor": 5
}
