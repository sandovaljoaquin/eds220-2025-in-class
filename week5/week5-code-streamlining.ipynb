{
 "cells": [
  {
   "cell_type": "markdown",
   "id": "b3b17ec5-37d3-4840-8802-26e6edbd9291",
   "metadata": {},
   "source": [
    "# Streamlining code \n",
    "\n",
    "We will: \n",
    "extract data from CSV to create a geopandasDataFrame \n",
    "do more customizations w matplotlib \n",
    "go over strategies to streamline code \n"
   ]
  },
  {
   "cell_type": "code",
   "execution_count": 1,
   "id": "41dff24b-d1ab-4947-955f-a85a4e646cda",
   "metadata": {
    "tags": []
   },
   "outputs": [],
   "source": [
    "import os\n",
    "\n",
    "import pandas as pd\n",
    "import geopandas as gpd\n",
    "import matplotlib.pyplot as plt\n",
    "from pandas.api.types import is_string_dtype, is_numeric_dtype\n",
    "\n",
    "# Display all columns when looking at dataframes \n",
    "pd.set_option(\"display.max.columns\", None)"
   ]
  },
  {
   "cell_type": "code",
   "execution_count": 2,
   "id": "5bf4d771-7a8b-4fd0-b7cf-d4f6ad8907b4",
   "metadata": {
    "tags": []
   },
   "outputs": [
    {
     "data": {
      "text/html": [
       "<div>\n",
       "<style scoped>\n",
       "    .dataframe tbody tr th:only-of-type {\n",
       "        vertical-align: middle;\n",
       "    }\n",
       "\n",
       "    .dataframe tbody tr th {\n",
       "        vertical-align: top;\n",
       "    }\n",
       "\n",
       "    .dataframe thead th {\n",
       "        text-align: right;\n",
       "    }\n",
       "</style>\n",
       "<table border=\"1\" class=\"dataframe\">\n",
       "  <thead>\n",
       "    <tr style=\"text-align: right;\">\n",
       "      <th></th>\n",
       "      <th>objectid</th>\n",
       "      <th>plant_code</th>\n",
       "      <th>plant_name</th>\n",
       "      <th>utility_id</th>\n",
       "      <th>utility_name</th>\n",
       "      <th>sector_name</th>\n",
       "      <th>street_address</th>\n",
       "      <th>city</th>\n",
       "      <th>county</th>\n",
       "      <th>state</th>\n",
       "      <th>zip</th>\n",
       "      <th>primsource</th>\n",
       "      <th>source_desc</th>\n",
       "      <th>tech_desc</th>\n",
       "      <th>install_mw</th>\n",
       "      <th>total_mw</th>\n",
       "      <th>bat_mw</th>\n",
       "      <th>bio_mw</th>\n",
       "      <th>coal_mw</th>\n",
       "      <th>geo_mw</th>\n",
       "      <th>hydro_mw</th>\n",
       "      <th>hydrops_mw</th>\n",
       "      <th>ng_mw</th>\n",
       "      <th>nuclear_mw</th>\n",
       "      <th>crude_mw</th>\n",
       "      <th>solar_mw</th>\n",
       "      <th>wind_mw</th>\n",
       "      <th>other_mw</th>\n",
       "      <th>source</th>\n",
       "      <th>period</th>\n",
       "      <th>longitude</th>\n",
       "      <th>latitude</th>\n",
       "    </tr>\n",
       "  </thead>\n",
       "  <tbody>\n",
       "    <tr>\n",
       "      <th>0</th>\n",
       "      <td>11570</td>\n",
       "      <td>1</td>\n",
       "      <td>Sand Point</td>\n",
       "      <td>63560</td>\n",
       "      <td>TDX Sand Point Generating, LLC</td>\n",
       "      <td>Electric Utility</td>\n",
       "      <td>100 Power Plant Way</td>\n",
       "      <td>Sand Point</td>\n",
       "      <td>Aleutians East</td>\n",
       "      <td>Alaska</td>\n",
       "      <td>99661.0</td>\n",
       "      <td>petroleum</td>\n",
       "      <td>Petroleum = 1.3 MW, Wind = 0.4 MW</td>\n",
       "      <td>Petroleum Liquids; Onshore Wind Turbine;</td>\n",
       "      <td>3.7</td>\n",
       "      <td>1.7</td>\n",
       "      <td>NaN</td>\n",
       "      <td>NaN</td>\n",
       "      <td>NaN</td>\n",
       "      <td>NaN</td>\n",
       "      <td>NaN</td>\n",
       "      <td>NaN</td>\n",
       "      <td>NaN</td>\n",
       "      <td>NaN</td>\n",
       "      <td>1.3</td>\n",
       "      <td>NaN</td>\n",
       "      <td>0.4</td>\n",
       "      <td>NaN</td>\n",
       "      <td>EIA-860, EIA-860M and EIA-923</td>\n",
       "      <td>202305.0</td>\n",
       "      <td>-160.497222</td>\n",
       "      <td>55.339722</td>\n",
       "    </tr>\n",
       "    <tr>\n",
       "      <th>1</th>\n",
       "      <td>11571</td>\n",
       "      <td>2</td>\n",
       "      <td>Bankhead Dam</td>\n",
       "      <td>195</td>\n",
       "      <td>Alabama Power Co</td>\n",
       "      <td>Electric Utility</td>\n",
       "      <td>19001 Lock 17 Road</td>\n",
       "      <td>Northport</td>\n",
       "      <td>Tuscaloosa</td>\n",
       "      <td>Alabama</td>\n",
       "      <td>35476.0</td>\n",
       "      <td>hydroelectric</td>\n",
       "      <td>Hydroelectric = 53 MW</td>\n",
       "      <td>Conventional Hydroelectric</td>\n",
       "      <td>53.9</td>\n",
       "      <td>53.0</td>\n",
       "      <td>NaN</td>\n",
       "      <td>NaN</td>\n",
       "      <td>NaN</td>\n",
       "      <td>NaN</td>\n",
       "      <td>53.0</td>\n",
       "      <td>NaN</td>\n",
       "      <td>NaN</td>\n",
       "      <td>NaN</td>\n",
       "      <td>NaN</td>\n",
       "      <td>NaN</td>\n",
       "      <td>NaN</td>\n",
       "      <td>NaN</td>\n",
       "      <td>EIA-860, EIA-860M and EIA-923</td>\n",
       "      <td>202305.0</td>\n",
       "      <td>-87.356823</td>\n",
       "      <td>33.458665</td>\n",
       "    </tr>\n",
       "    <tr>\n",
       "      <th>2</th>\n",
       "      <td>11572</td>\n",
       "      <td>3</td>\n",
       "      <td>Barry</td>\n",
       "      <td>195</td>\n",
       "      <td>Alabama Power Co</td>\n",
       "      <td>Electric Utility</td>\n",
       "      <td>North Highway 43</td>\n",
       "      <td>Bucks</td>\n",
       "      <td>Mobile</td>\n",
       "      <td>Alabama</td>\n",
       "      <td>36512.0</td>\n",
       "      <td>natural gas</td>\n",
       "      <td>Coal = 1118.5 MW, Natural Gas = 1296.2 MW</td>\n",
       "      <td>Conventional Steam Coal; Natural Gas Fired Com...</td>\n",
       "      <td>2569.5</td>\n",
       "      <td>2414.7</td>\n",
       "      <td>NaN</td>\n",
       "      <td>NaN</td>\n",
       "      <td>1118.5</td>\n",
       "      <td>NaN</td>\n",
       "      <td>NaN</td>\n",
       "      <td>NaN</td>\n",
       "      <td>1296.2</td>\n",
       "      <td>NaN</td>\n",
       "      <td>NaN</td>\n",
       "      <td>NaN</td>\n",
       "      <td>NaN</td>\n",
       "      <td>NaN</td>\n",
       "      <td>EIA-860, EIA-860M and EIA-923</td>\n",
       "      <td>202305.0</td>\n",
       "      <td>-88.010300</td>\n",
       "      <td>31.006900</td>\n",
       "    </tr>\n",
       "    <tr>\n",
       "      <th>3</th>\n",
       "      <td>11573</td>\n",
       "      <td>4</td>\n",
       "      <td>Walter Bouldin Dam</td>\n",
       "      <td>195</td>\n",
       "      <td>Alabama Power Co</td>\n",
       "      <td>Electric Utility</td>\n",
       "      <td>750 Bouldin Dam Road</td>\n",
       "      <td>Wetumpka</td>\n",
       "      <td>Elmore</td>\n",
       "      <td>Alabama</td>\n",
       "      <td>36092.0</td>\n",
       "      <td>hydroelectric</td>\n",
       "      <td>Hydroelectric = 224.1 MW</td>\n",
       "      <td>Conventional Hydroelectric</td>\n",
       "      <td>225.0</td>\n",
       "      <td>224.1</td>\n",
       "      <td>NaN</td>\n",
       "      <td>NaN</td>\n",
       "      <td>NaN</td>\n",
       "      <td>NaN</td>\n",
       "      <td>224.1</td>\n",
       "      <td>NaN</td>\n",
       "      <td>NaN</td>\n",
       "      <td>NaN</td>\n",
       "      <td>NaN</td>\n",
       "      <td>NaN</td>\n",
       "      <td>NaN</td>\n",
       "      <td>NaN</td>\n",
       "      <td>EIA-860, EIA-860M and EIA-923</td>\n",
       "      <td>202305.0</td>\n",
       "      <td>-86.283056</td>\n",
       "      <td>32.583889</td>\n",
       "    </tr>\n",
       "    <tr>\n",
       "      <th>4</th>\n",
       "      <td>11574</td>\n",
       "      <td>9</td>\n",
       "      <td>Copper</td>\n",
       "      <td>5701</td>\n",
       "      <td>El Paso Electric Co</td>\n",
       "      <td>Electric Utility</td>\n",
       "      <td>651 Hawkins Blvd.</td>\n",
       "      <td>El Paso</td>\n",
       "      <td>El Paso</td>\n",
       "      <td>Texas</td>\n",
       "      <td>79915.0</td>\n",
       "      <td>natural gas</td>\n",
       "      <td>Natural Gas = 63 MW</td>\n",
       "      <td>Natural Gas Fired Combustion Turbine</td>\n",
       "      <td>86.9</td>\n",
       "      <td>63.0</td>\n",
       "      <td>NaN</td>\n",
       "      <td>NaN</td>\n",
       "      <td>NaN</td>\n",
       "      <td>NaN</td>\n",
       "      <td>NaN</td>\n",
       "      <td>NaN</td>\n",
       "      <td>63.0</td>\n",
       "      <td>NaN</td>\n",
       "      <td>NaN</td>\n",
       "      <td>NaN</td>\n",
       "      <td>NaN</td>\n",
       "      <td>NaN</td>\n",
       "      <td>EIA-860, EIA-860M and EIA-923</td>\n",
       "      <td>202305.0</td>\n",
       "      <td>-106.375000</td>\n",
       "      <td>31.756900</td>\n",
       "    </tr>\n",
       "  </tbody>\n",
       "</table>\n",
       "</div>"
      ],
      "text/plain": [
       "  objectid plant_code          plant_name utility_id  \\\n",
       "0    11570          1          Sand Point      63560   \n",
       "1    11571          2        Bankhead Dam        195   \n",
       "2    11572          3               Barry        195   \n",
       "3    11573          4  Walter Bouldin Dam        195   \n",
       "4    11574          9              Copper       5701   \n",
       "\n",
       "                     utility_name       sector_name        street_address  \\\n",
       "0  TDX Sand Point Generating, LLC  Electric Utility   100 Power Plant Way   \n",
       "1                Alabama Power Co  Electric Utility    19001 Lock 17 Road   \n",
       "2                Alabama Power Co  Electric Utility      North Highway 43   \n",
       "3                Alabama Power Co  Electric Utility  750 Bouldin Dam Road   \n",
       "4             El Paso Electric Co  Electric Utility     651 Hawkins Blvd.   \n",
       "\n",
       "         city          county    state      zip     primsource  \\\n",
       "0  Sand Point  Aleutians East   Alaska  99661.0      petroleum   \n",
       "1   Northport      Tuscaloosa  Alabama  35476.0  hydroelectric   \n",
       "2       Bucks          Mobile  Alabama  36512.0    natural gas   \n",
       "3    Wetumpka          Elmore  Alabama  36092.0  hydroelectric   \n",
       "4     El Paso         El Paso    Texas  79915.0    natural gas   \n",
       "\n",
       "                                 source_desc  \\\n",
       "0          Petroleum = 1.3 MW, Wind = 0.4 MW   \n",
       "1                      Hydroelectric = 53 MW   \n",
       "2  Coal = 1118.5 MW, Natural Gas = 1296.2 MW   \n",
       "3                   Hydroelectric = 224.1 MW   \n",
       "4                        Natural Gas = 63 MW   \n",
       "\n",
       "                                           tech_desc  install_mw  total_mw  \\\n",
       "0           Petroleum Liquids; Onshore Wind Turbine;         3.7       1.7   \n",
       "1                         Conventional Hydroelectric        53.9      53.0   \n",
       "2  Conventional Steam Coal; Natural Gas Fired Com...      2569.5    2414.7   \n",
       "3                         Conventional Hydroelectric       225.0     224.1   \n",
       "4               Natural Gas Fired Combustion Turbine        86.9      63.0   \n",
       "\n",
       "   bat_mw  bio_mw  coal_mw  geo_mw  hydro_mw  hydrops_mw   ng_mw nuclear_mw  \\\n",
       "0     NaN     NaN      NaN     NaN       NaN         NaN     NaN        NaN   \n",
       "1     NaN     NaN      NaN     NaN      53.0         NaN     NaN        NaN   \n",
       "2     NaN     NaN   1118.5     NaN       NaN         NaN  1296.2        NaN   \n",
       "3     NaN     NaN      NaN     NaN     224.1         NaN     NaN        NaN   \n",
       "4     NaN     NaN      NaN     NaN       NaN         NaN    63.0        NaN   \n",
       "\n",
       "   crude_mw  solar_mw  wind_mw  other_mw                         source  \\\n",
       "0       1.3       NaN      0.4       NaN  EIA-860, EIA-860M and EIA-923   \n",
       "1       NaN       NaN      NaN       NaN  EIA-860, EIA-860M and EIA-923   \n",
       "2       NaN       NaN      NaN       NaN  EIA-860, EIA-860M and EIA-923   \n",
       "3       NaN       NaN      NaN       NaN  EIA-860, EIA-860M and EIA-923   \n",
       "4       NaN       NaN      NaN       NaN  EIA-860, EIA-860M and EIA-923   \n",
       "\n",
       "     period   longitude   latitude  \n",
       "0  202305.0 -160.497222  55.339722  \n",
       "1  202305.0  -87.356823  33.458665  \n",
       "2  202305.0  -88.010300  31.006900  \n",
       "3  202305.0  -86.283056  32.583889  \n",
       "4  202305.0 -106.375000  31.756900  "
      ]
     },
     "execution_count": 2,
     "metadata": {},
     "output_type": "execute_result"
    }
   ],
   "source": [
    "# Import power plants data\n",
    "\n",
    "URL = 'https://raw.githubusercontent.com/carmengg/eds-220-book/refs/heads/main/data/power_plants_epsg4269.csv'\n",
    "power_plants = pd.read_csv(URL)\n",
    "\n",
    "# Drop first column \n",
    "\n",
    "power_plants = power_plants.drop(columns = 'Unnamed: 0')\n",
    "\n",
    "power_plants.head()"
   ]
  },
  {
   "cell_type": "code",
   "execution_count": 3,
   "id": "4fb32949-c7eb-4796-9a0e-a82bdc78a3c8",
   "metadata": {
    "tags": []
   },
   "outputs": [
    {
     "name": "stderr",
     "output_type": "stream",
     "text": [
      "ERROR 1: PROJ: proj_create_from_database: Open of /opt/anaconda3/envs/eds220-env/share/proj failed\n"
     ]
    },
    {
     "data": {
      "text/html": [
       "<div>\n",
       "<style scoped>\n",
       "    .dataframe tbody tr th:only-of-type {\n",
       "        vertical-align: middle;\n",
       "    }\n",
       "\n",
       "    .dataframe tbody tr th {\n",
       "        vertical-align: top;\n",
       "    }\n",
       "\n",
       "    .dataframe thead th {\n",
       "        text-align: right;\n",
       "    }\n",
       "</style>\n",
       "<table border=\"1\" class=\"dataframe\">\n",
       "  <thead>\n",
       "    <tr style=\"text-align: right;\">\n",
       "      <th></th>\n",
       "      <th>region</th>\n",
       "      <th>division</th>\n",
       "      <th>statefp</th>\n",
       "      <th>statens</th>\n",
       "      <th>geoid</th>\n",
       "      <th>stusps</th>\n",
       "      <th>name</th>\n",
       "      <th>lsad</th>\n",
       "      <th>mtfcc</th>\n",
       "      <th>funcstat</th>\n",
       "      <th>aland</th>\n",
       "      <th>awater</th>\n",
       "      <th>intptlat</th>\n",
       "      <th>intptlon</th>\n",
       "      <th>geometry</th>\n",
       "    </tr>\n",
       "  </thead>\n",
       "  <tbody>\n",
       "    <tr>\n",
       "      <th>0</th>\n",
       "      <td>3</td>\n",
       "      <td>5</td>\n",
       "      <td>54</td>\n",
       "      <td>01779805</td>\n",
       "      <td>54</td>\n",
       "      <td>WV</td>\n",
       "      <td>West Virginia</td>\n",
       "      <td>00</td>\n",
       "      <td>G4000</td>\n",
       "      <td>A</td>\n",
       "      <td>62266456923</td>\n",
       "      <td>489045863</td>\n",
       "      <td>+38.6472854</td>\n",
       "      <td>-080.6183274</td>\n",
       "      <td>POLYGON ((-77.75438 39.33346, -77.75422 39.333...</td>\n",
       "    </tr>\n",
       "    <tr>\n",
       "      <th>1</th>\n",
       "      <td>3</td>\n",
       "      <td>5</td>\n",
       "      <td>12</td>\n",
       "      <td>00294478</td>\n",
       "      <td>12</td>\n",
       "      <td>FL</td>\n",
       "      <td>Florida</td>\n",
       "      <td>00</td>\n",
       "      <td>G4000</td>\n",
       "      <td>A</td>\n",
       "      <td>138962819934</td>\n",
       "      <td>45971472526</td>\n",
       "      <td>+28.3989775</td>\n",
       "      <td>-082.5143005</td>\n",
       "      <td>MULTIPOLYGON (((-83.10874 24.62949, -83.10711 ...</td>\n",
       "    </tr>\n",
       "    <tr>\n",
       "      <th>2</th>\n",
       "      <td>2</td>\n",
       "      <td>3</td>\n",
       "      <td>17</td>\n",
       "      <td>01779784</td>\n",
       "      <td>17</td>\n",
       "      <td>IL</td>\n",
       "      <td>Illinois</td>\n",
       "      <td>00</td>\n",
       "      <td>G4000</td>\n",
       "      <td>A</td>\n",
       "      <td>143778515726</td>\n",
       "      <td>6216539665</td>\n",
       "      <td>+40.1028754</td>\n",
       "      <td>-089.1526108</td>\n",
       "      <td>POLYGON ((-87.89243 38.28285, -87.89334 38.282...</td>\n",
       "    </tr>\n",
       "  </tbody>\n",
       "</table>\n",
       "</div>"
      ],
      "text/plain": [
       "  region division statefp   statens geoid stusps           name lsad  mtfcc  \\\n",
       "0      3        5      54  01779805    54     WV  West Virginia   00  G4000   \n",
       "1      3        5      12  00294478    12     FL        Florida   00  G4000   \n",
       "2      2        3      17  01779784    17     IL       Illinois   00  G4000   \n",
       "\n",
       "  funcstat         aland       awater     intptlat      intptlon  \\\n",
       "0        A   62266456923    489045863  +38.6472854  -080.6183274   \n",
       "1        A  138962819934  45971472526  +28.3989775  -082.5143005   \n",
       "2        A  143778515726   6216539665  +40.1028754  -089.1526108   \n",
       "\n",
       "                                            geometry  \n",
       "0  POLYGON ((-77.75438 39.33346, -77.75422 39.333...  \n",
       "1  MULTIPOLYGON (((-83.10874 24.62949, -83.10711 ...  \n",
       "2  POLYGON ((-87.89243 38.28285, -87.89334 38.282...  "
      ]
     },
     "execution_count": 3,
     "metadata": {},
     "output_type": "execute_result"
    }
   ],
   "source": [
    "# Import states data\n",
    "\n",
    "fp = os.path.join('data','week5','tl_2022_us_state.shp')\n",
    "states = gpd.read_file(fp)\n",
    "\n",
    "# Simplify column names \n",
    "states.columns = states.columns.str.lower() \n",
    "\n",
    "states.head(3)"
   ]
  },
  {
   "cell_type": "markdown",
   "id": "7cc89367-aadc-4821-8e4c-c65c930ebda5",
   "metadata": {},
   "source": [
    "## CSV to `geopandas.GeoDataFrame`\n",
    "\n",
    "The power plants file is a CSV. Unlike shapefiles, `geopandas` doesnt have a way to extract a geometry column from CSV, so need to specify this manually. \n",
    "\n",
    "We will use the longitude and latitude columsn in the csv, these indicate the location of the power plants in the NAD83 CRS (ESPG: 4259)"
   ]
  },
  {
   "cell_type": "code",
   "execution_count": 4,
   "id": "a9b02995-a795-4afe-bce6-94728cbaf188",
   "metadata": {
    "tags": []
   },
   "outputs": [],
   "source": [
    "# Create points from latitude and longitue \n",
    "\n",
    "points = gpd.points_from_xy(power_plants.longitude, \n",
    "                   power_plants.latitude)\n",
    "\n",
    "# Create a geodataframe "
   ]
  },
  {
   "cell_type": "code",
   "execution_count": 5,
   "id": "98165aab-a954-4cca-a8ca-d3c819dd6059",
   "metadata": {
    "tags": []
   },
   "outputs": [],
   "source": [
    "power_plants = gpd.GeoDataFrame(power_plants,  #Data\n",
    "                 geometry = points, # Specify geometry column \n",
    "                 crs = 'EPSG:4269' # Specify CRS \n",
    "                )"
   ]
  },
  {
   "cell_type": "code",
   "execution_count": 6,
   "id": "b196e62c-69ab-4f59-a4ed-eccdade00248",
   "metadata": {
    "tags": []
   },
   "outputs": [
    {
     "data": {
      "text/plain": [
       "<Axes: >"
      ]
     },
     "execution_count": 6,
     "metadata": {},
     "output_type": "execute_result"
    },
    {
     "data": {
      "image/png": "[encoded data removed]",
      "text/plain": [
       "<Figure size 640x480 with 1 Axes>"
      ]
     },
     "metadata": {},
     "output_type": "display_data"
    }
   ],
   "source": [
    "power_plants.plot()"
   ]
  },
  {
   "cell_type": "markdown",
   "id": "4dc070bb-16db-48ac-bb29-88b414da3c3e",
   "metadata": {},
   "source": [
    "## f-strings\n",
    "\n",
    "We have printed variables using string concatenation inside print function writting commas between every string and variable we want to print: \n"
   ]
  },
  {
   "cell_type": "code",
   "execution_count": 7,
   "id": "985f667e-b159-48b5-8175-cffb8dd5b8cf",
   "metadata": {
    "tags": []
   },
   "outputs": [
    {
     "name": "stdout",
     "output_type": "stream",
     "text": [
      "CRS: EPSG:4269\n"
     ]
    }
   ],
   "source": [
    "print('CRS:', power_plants.crs)"
   ]
  },
  {
   "cell_type": "markdown",
   "id": "edc58691-7ea0-4417-9b90-88ee7b9f4fe2",
   "metadata": {},
   "source": [
    "f-strings = formatted string. The simplest syntax for an fstring is : \n",
    "\n",
    "```default \n",
    "f\" some text {replace}\n",
    "```"
   ]
  },
  {
   "cell_type": "code",
   "execution_count": 8,
   "id": "848f04e0-1e0e-4ea3-bbb9-7ba5a71cae6d",
   "metadata": {
    "tags": []
   },
   "outputs": [
    {
     "name": "stdout",
     "output_type": "stream",
     "text": [
      "ellipsoid: GRS 1980\n",
      "datum: North American Datum 1983\n"
     ]
    }
   ],
   "source": [
    "# Explore CRS \n",
    "\n",
    "print(f\"ellipsoid: {power_plants.crs.ellipsoid}\")\n",
    "\n",
    "print(f\"datum: {power_plants.crs.datum}\")"
   ]
  },
  {
   "cell_type": "code",
   "execution_count": 9,
   "id": "990e0df8-d0b3-424b-a8d1-2aed120da523",
   "metadata": {
    "tags": []
   },
   "outputs": [
    {
     "name": "stdout",
     "output_type": "stream",
     "text": [
      "Is the CRS Geographic?    True\n",
      "Is the CRS Projected?     False\n"
     ]
    }
   ],
   "source": [
    "print(f\"{'Is the CRS Geographic?' : <25} {power_plants.crs.is_geographic}\") \n",
    "print(f\"{'Is the CRS Projected?' : <25} {power_plants.crs.is_projected}\") "
   ]
  },
  {
   "cell_type": "markdown",
   "id": "e6de7ef5-a49b-453e-bd49-a6dcd88e497f",
   "metadata": {},
   "source": [
    " ## Explore TIGER shapefile\n",
    " \n",
    " Preliminary informationn about the states geodataframe "
   ]
  },
  {
   "cell_type": "code",
   "execution_count": 10,
   "id": "0bfb621b-0c65-4ac2-89f6-b4f70f467cca",
   "metadata": {
    "tags": []
   },
   "outputs": [
    {
     "data": {
      "text/html": [
       "<div>\n",
       "<style scoped>\n",
       "    .dataframe tbody tr th:only-of-type {\n",
       "        vertical-align: middle;\n",
       "    }\n",
       "\n",
       "    .dataframe tbody tr th {\n",
       "        vertical-align: top;\n",
       "    }\n",
       "\n",
       "    .dataframe thead th {\n",
       "        text-align: right;\n",
       "    }\n",
       "</style>\n",
       "<table border=\"1\" class=\"dataframe\">\n",
       "  <thead>\n",
       "    <tr style=\"text-align: right;\">\n",
       "      <th></th>\n",
       "      <th>region</th>\n",
       "      <th>division</th>\n",
       "      <th>statefp</th>\n",
       "      <th>statens</th>\n",
       "      <th>geoid</th>\n",
       "      <th>stusps</th>\n",
       "      <th>name</th>\n",
       "      <th>lsad</th>\n",
       "      <th>mtfcc</th>\n",
       "      <th>funcstat</th>\n",
       "      <th>aland</th>\n",
       "      <th>awater</th>\n",
       "      <th>intptlat</th>\n",
       "      <th>intptlon</th>\n",
       "      <th>geometry</th>\n",
       "    </tr>\n",
       "  </thead>\n",
       "  <tbody>\n",
       "    <tr>\n",
       "      <th>51</th>\n",
       "      <td>1</td>\n",
       "      <td>1</td>\n",
       "      <td>25</td>\n",
       "      <td>00606926</td>\n",
       "      <td>25</td>\n",
       "      <td>MA</td>\n",
       "      <td>Massachusetts</td>\n",
       "      <td>00</td>\n",
       "      <td>G4000</td>\n",
       "      <td>A</td>\n",
       "      <td>20204341720</td>\n",
       "      <td>7130708927</td>\n",
       "      <td>+42.1565196</td>\n",
       "      <td>-071.4895915</td>\n",
       "      <td>POLYGON ((-71.25515 42.73655, -71.25510 42.736...</td>\n",
       "    </tr>\n",
       "    <tr>\n",
       "      <th>52</th>\n",
       "      <td>3</td>\n",
       "      <td>5</td>\n",
       "      <td>51</td>\n",
       "      <td>01779803</td>\n",
       "      <td>51</td>\n",
       "      <td>VA</td>\n",
       "      <td>Virginia</td>\n",
       "      <td>00</td>\n",
       "      <td>G4000</td>\n",
       "      <td>A</td>\n",
       "      <td>102258178227</td>\n",
       "      <td>8528072639</td>\n",
       "      <td>+37.5222512</td>\n",
       "      <td>-078.6681938</td>\n",
       "      <td>POLYGON ((-76.49150 36.55065, -76.49388 36.550...</td>\n",
       "    </tr>\n",
       "    <tr>\n",
       "      <th>53</th>\n",
       "      <td>3</td>\n",
       "      <td>5</td>\n",
       "      <td>11</td>\n",
       "      <td>01702382</td>\n",
       "      <td>11</td>\n",
       "      <td>DC</td>\n",
       "      <td>District of Columbia</td>\n",
       "      <td>00</td>\n",
       "      <td>G4000</td>\n",
       "      <td>A</td>\n",
       "      <td>158316184</td>\n",
       "      <td>18709787</td>\n",
       "      <td>+38.9042474</td>\n",
       "      <td>-077.0165167</td>\n",
       "      <td>POLYGON ((-77.11975 38.93435, -77.11886 38.935...</td>\n",
       "    </tr>\n",
       "    <tr>\n",
       "      <th>54</th>\n",
       "      <td>2</td>\n",
       "      <td>4</td>\n",
       "      <td>19</td>\n",
       "      <td>01779785</td>\n",
       "      <td>19</td>\n",
       "      <td>IA</td>\n",
       "      <td>Iowa</td>\n",
       "      <td>00</td>\n",
       "      <td>G4000</td>\n",
       "      <td>A</td>\n",
       "      <td>144659596400</td>\n",
       "      <td>1086089872</td>\n",
       "      <td>+42.0700243</td>\n",
       "      <td>-093.4933473</td>\n",
       "      <td>POLYGON ((-95.86095 43.50004, -95.85979 43.500...</td>\n",
       "    </tr>\n",
       "    <tr>\n",
       "      <th>55</th>\n",
       "      <td>4</td>\n",
       "      <td>8</td>\n",
       "      <td>04</td>\n",
       "      <td>01779777</td>\n",
       "      <td>04</td>\n",
       "      <td>AZ</td>\n",
       "      <td>Arizona</td>\n",
       "      <td>00</td>\n",
       "      <td>G4000</td>\n",
       "      <td>A</td>\n",
       "      <td>294365853885</td>\n",
       "      <td>853990728</td>\n",
       "      <td>+34.2039362</td>\n",
       "      <td>-111.6063449</td>\n",
       "      <td>POLYGON ((-110.75069 37.00301, -110.74193 37.0...</td>\n",
       "    </tr>\n",
       "  </tbody>\n",
       "</table>\n",
       "</div>"
      ],
      "text/plain": [
       "   region division statefp   statens geoid stusps                  name lsad  \\\n",
       "51      1        1      25  00606926    25     MA         Massachusetts   00   \n",
       "52      3        5      51  01779803    51     VA              Virginia   00   \n",
       "53      3        5      11  01702382    11     DC  District of Columbia   00   \n",
       "54      2        4      19  01779785    19     IA                  Iowa   00   \n",
       "55      4        8      04  01779777    04     AZ               Arizona   00   \n",
       "\n",
       "    mtfcc funcstat         aland      awater     intptlat      intptlon  \\\n",
       "51  G4000        A   20204341720  7130708927  +42.1565196  -071.4895915   \n",
       "52  G4000        A  102258178227  8528072639  +37.5222512  -078.6681938   \n",
       "53  G4000        A     158316184    18709787  +38.9042474  -077.0165167   \n",
       "54  G4000        A  144659596400  1086089872  +42.0700243  -093.4933473   \n",
       "55  G4000        A  294365853885   853990728  +34.2039362  -111.6063449   \n",
       "\n",
       "                                             geometry  \n",
       "51  POLYGON ((-71.25515 42.73655, -71.25510 42.736...  \n",
       "52  POLYGON ((-76.49150 36.55065, -76.49388 36.550...  \n",
       "53  POLYGON ((-77.11975 38.93435, -77.11886 38.935...  \n",
       "54  POLYGON ((-95.86095 43.50004, -95.85979 43.500...  \n",
       "55  POLYGON ((-110.75069 37.00301, -110.74193 37.0...  "
      ]
     },
     "execution_count": 10,
     "metadata": {},
     "output_type": "execute_result"
    }
   ],
   "source": [
    "states.tail()"
   ]
  },
  {
   "cell_type": "code",
   "execution_count": 11,
   "id": "96dfff2a-6866-4e40-b6fe-0fc2be2de2d7",
   "metadata": {
    "tags": []
   },
   "outputs": [
    {
     "name": "stdout",
     "output_type": "stream",
     "text": [
      "EPSG:4269\n"
     ]
    },
    {
     "data": {
      "text/plain": [
       "<Axes: >"
      ]
     },
     "execution_count": 11,
     "metadata": {},
     "output_type": "execute_result"
    },
    {
     "data": {
      "image/png": "[encoded data removed]",
      "text/plain": [
       "<Figure size 640x480 with 1 Axes>"
      ]
     },
     "metadata": {},
     "output_type": "display_data"
    }
   ],
   "source": [
    "print(states.crs) \n",
    "states.plot()"
   ]
  },
  {
   "cell_type": "markdown",
   "id": "adcd9885-a18e-4848-8991-b439aa3f1798",
   "metadata": {},
   "source": [
    "## `for` loops \n",
    "\n",
    "It can be easier to work with codes as numbers instead of strings, let's update the corresponding columns in the states geo-dataframe "
   ]
  },
  {
   "cell_type": "code",
   "execution_count": 12,
   "id": "78d7b90c-7d33-4e5a-8499-9415f8ab6c12",
   "metadata": {
    "tags": []
   },
   "outputs": [
    {
     "name": "stdout",
     "output_type": "stream",
     "text": [
      "Region is string dtype? True\n"
     ]
    }
   ],
   "source": [
    "# Examine in the region, divison, statefp columns are string or numeric \n",
    "\n",
    "print(f\"Region is string dtype? {is_string_dtype(states['region'])}\")"
   ]
  },
  {
   "cell_type": "markdown",
   "id": "a004850e-ba2e-48b0-b5ed-e8946bd36b70",
   "metadata": {},
   "source": [
    "This is inconveninet because it repeats the same piece of code, only changing the column name. \n",
    "\n",
    "Can use forloop to streamline. "
   ]
  },
  {
   "cell_type": "code",
   "execution_count": 13,
   "id": "a0c60d7d-9106-4391-857f-9a212f42596e",
   "metadata": {
    "tags": []
   },
   "outputs": [
    {
     "name": "stdout",
     "output_type": "stream",
     "text": [
      "region is string dtype? True\n",
      "division is string dtype? True\n",
      "statefp is string dtype? True\n"
     ]
    }
   ],
   "source": [
    "code_cols = ['region', 'division', 'statefp']\n",
    "\n",
    "# Check whether code columns are strings \n",
    "\n",
    "for column in code_cols: \n",
    "    print(f\"{column} is string dtype? {is_string_dtype(states[column])}\")"
   ]
  },
  {
   "cell_type": "markdown",
   "id": "69373858-66e8-4fa6-945e-b91cca54100d",
   "metadata": {},
   "source": [
    "DRY code dint repeat yourself Don’t Repeat Yourself (DRY) is a core programming principle that encourages reducing redundancy and consolidating repeated logic. Try implementing it as much as possible! If you need to repeat the “same” code more than twice, you likely need a for loop."
   ]
  },
  {
   "cell_type": "markdown",
   "id": "6dfe2e09-5551-458e-817f-0a37f4469d88",
   "metadata": {},
   "source": [
    "## Assert \n",
    "\n",
    "Next, we update the data type of the code columns to be integers. This time, we check the data type of the column using the is_numeric_dtype() function inside an assert statement:"
   ]
  },
  {
   "cell_type": "code",
   "execution_count": 14,
   "id": "9f029b28-fdfa-4410-9fb1-022ff6265b43",
   "metadata": {
    "tags": []
   },
   "outputs": [
    {
     "ename": "AssertionError",
     "evalue": "",
     "output_type": "error",
     "traceback": [
      "\u001b[0;31m---------------------------------------------------------------------------\u001b[0m",
      "\u001b[0;31mAssertionError\u001b[0m                            Traceback (most recent call last)",
      "Cell \u001b[0;32mIn[14], line 7\u001b[0m\n\u001b[1;32m      3\u001b[0m \u001b[38;5;28;01massert\u001b[39;00m \u001b[38;5;241m2\u001b[39m \u001b[38;5;241m+\u001b[39m \u001b[38;5;241m2\u001b[39m \u001b[38;5;241m==\u001b[39m\u001b[38;5;241m4\u001b[39m\n\u001b[1;32m      5\u001b[0m \u001b[38;5;66;03m# Raise an error if statement is false \u001b[39;00m\n\u001b[0;32m----> 7\u001b[0m \u001b[38;5;28;01massert\u001b[39;00m \u001b[38;5;241m2\u001b[39m\u001b[38;5;241m+\u001b[39m\u001b[38;5;241m2\u001b[39m \u001b[38;5;241m==\u001b[39m \u001b[38;5;241m3\u001b[39m\n",
      "\u001b[0;31mAssertionError\u001b[0m: "
     ]
    }
   ],
   "source": [
    "# Does nothing if statement is true \n",
    "\n",
    "assert 2 + 2 ==4\n",
    "\n",
    "# Raise an error if statement is false \n",
    "\n",
    "assert 2+2 == 3"
   ]
  },
  {
   "cell_type": "markdown",
   "id": "1c7013ae-9e12-4ef2-b17c-f66aee9cf318",
   "metadata": {},
   "source": [
    "A workflow for updating the data type of code columns to be integers: \n",
    "\n",
    "for each column in code_columns: \n",
    "    comert column to numeric \n",
    "    check if column is numeric using assert "
   ]
  },
  {
   "cell_type": "code",
   "execution_count": null,
   "id": "9168aeca-e7d4-4ae1-8801-bf29527c83ce",
   "metadata": {
    "tags": []
   },
   "outputs": [],
   "source": [
    "# Update code columns into integers \n",
    "\n",
    "for column in code_cols: \n",
    "    states[column] = states[column].astype('int') \n",
    "    assert is_numeric_dtype(states[column])"
   ]
  },
  {
   "cell_type": "code",
   "execution_count": null,
   "id": "314527fa-b51a-48f9-a095-d60e2d977f28",
   "metadata": {
    "tags": []
   },
   "outputs": [],
   "source": [
    "states.dtypes"
   ]
  },
  {
   "cell_type": "markdown",
   "id": "519b9d0c-b5c5-48e4-8942-3ec2165d473f",
   "metadata": {},
   "source": [
    "## Data Selection \n",
    "\n",
    "For this lesson, we want to use data for the contigous states. The data covers a larger extension: "
   ]
  },
  {
   "cell_type": "code",
   "execution_count": 16,
   "id": "6655083e-56f5-4d5f-aafa-ee9351c37fcb",
   "metadata": {
    "tags": []
   },
   "outputs": [
    {
     "data": {
      "text/plain": [
       "<Axes: >"
      ]
     },
     "execution_count": 16,
     "metadata": {},
     "output_type": "execute_result"
    },
    {
     "data": {
      "image/png": "[encoded data removed]",
      "text/plain": [
       "<Figure size 640x480 with 1 Axes>"
      ]
     },
     "metadata": {},
     "output_type": "display_data"
    }
   ],
   "source": [
    "states.plot()"
   ]
  },
  {
   "cell_type": "markdown",
   "id": "edf6fdaa-8192-49c6-aedc-fd4f00ab98da",
   "metadata": {},
   "source": [
    "## Check in \n",
    "\n",
    "What are the unique values for region, division, or state codes in the data?\n",
    "\n",
    "Which codes should should we select to keep only states in the contiguous US?\n"
   ]
  },
  {
   "cell_type": "code",
   "execution_count": 24,
   "id": "cfb257f9-56ed-4503-9a32-f8a34f88ead3",
   "metadata": {
    "tags": []
   },
   "outputs": [
    {
     "data": {
      "text/html": [
       "<div>\n",
       "<style scoped>\n",
       "    .dataframe tbody tr th:only-of-type {\n",
       "        vertical-align: middle;\n",
       "    }\n",
       "\n",
       "    .dataframe tbody tr th {\n",
       "        vertical-align: top;\n",
       "    }\n",
       "\n",
       "    .dataframe thead th {\n",
       "        text-align: right;\n",
       "    }\n",
       "</style>\n",
       "<table border=\"1\" class=\"dataframe\">\n",
       "  <thead>\n",
       "    <tr style=\"text-align: right;\">\n",
       "      <th></th>\n",
       "      <th>region</th>\n",
       "      <th>division</th>\n",
       "      <th>statefp</th>\n",
       "      <th>statens</th>\n",
       "      <th>geoid</th>\n",
       "      <th>stusps</th>\n",
       "      <th>name</th>\n",
       "      <th>lsad</th>\n",
       "      <th>mtfcc</th>\n",
       "      <th>funcstat</th>\n",
       "      <th>aland</th>\n",
       "      <th>awater</th>\n",
       "      <th>intptlat</th>\n",
       "      <th>intptlon</th>\n",
       "      <th>geometry</th>\n",
       "    </tr>\n",
       "  </thead>\n",
       "  <tbody>\n",
       "    <tr>\n",
       "      <th>0</th>\n",
       "      <td>3</td>\n",
       "      <td>5</td>\n",
       "      <td>54</td>\n",
       "      <td>01779805</td>\n",
       "      <td>54</td>\n",
       "      <td>WV</td>\n",
       "      <td>West Virginia</td>\n",
       "      <td>00</td>\n",
       "      <td>G4000</td>\n",
       "      <td>A</td>\n",
       "      <td>62266456923</td>\n",
       "      <td>489045863</td>\n",
       "      <td>+38.6472854</td>\n",
       "      <td>-080.6183274</td>\n",
       "      <td>POLYGON ((-77.75438 39.33346, -77.75422 39.333...</td>\n",
       "    </tr>\n",
       "    <tr>\n",
       "      <th>1</th>\n",
       "      <td>3</td>\n",
       "      <td>5</td>\n",
       "      <td>12</td>\n",
       "      <td>00294478</td>\n",
       "      <td>12</td>\n",
       "      <td>FL</td>\n",
       "      <td>Florida</td>\n",
       "      <td>00</td>\n",
       "      <td>G4000</td>\n",
       "      <td>A</td>\n",
       "      <td>138962819934</td>\n",
       "      <td>45971472526</td>\n",
       "      <td>+28.3989775</td>\n",
       "      <td>-082.5143005</td>\n",
       "      <td>MULTIPOLYGON (((-83.10874 24.62949, -83.10711 ...</td>\n",
       "    </tr>\n",
       "    <tr>\n",
       "      <th>2</th>\n",
       "      <td>2</td>\n",
       "      <td>3</td>\n",
       "      <td>17</td>\n",
       "      <td>01779784</td>\n",
       "      <td>17</td>\n",
       "      <td>IL</td>\n",
       "      <td>Illinois</td>\n",
       "      <td>00</td>\n",
       "      <td>G4000</td>\n",
       "      <td>A</td>\n",
       "      <td>143778515726</td>\n",
       "      <td>6216539665</td>\n",
       "      <td>+40.1028754</td>\n",
       "      <td>-089.1526108</td>\n",
       "      <td>POLYGON ((-87.89243 38.28285, -87.89334 38.282...</td>\n",
       "    </tr>\n",
       "    <tr>\n",
       "      <th>3</th>\n",
       "      <td>2</td>\n",
       "      <td>4</td>\n",
       "      <td>27</td>\n",
       "      <td>00662849</td>\n",
       "      <td>27</td>\n",
       "      <td>MN</td>\n",
       "      <td>Minnesota</td>\n",
       "      <td>00</td>\n",
       "      <td>G4000</td>\n",
       "      <td>A</td>\n",
       "      <td>206244837557</td>\n",
       "      <td>18937184315</td>\n",
       "      <td>+46.3159573</td>\n",
       "      <td>-094.1996043</td>\n",
       "      <td>POLYGON ((-95.31989 48.99892, -95.31747 48.998...</td>\n",
       "    </tr>\n",
       "    <tr>\n",
       "      <th>4</th>\n",
       "      <td>3</td>\n",
       "      <td>5</td>\n",
       "      <td>24</td>\n",
       "      <td>01714934</td>\n",
       "      <td>24</td>\n",
       "      <td>MD</td>\n",
       "      <td>Maryland</td>\n",
       "      <td>00</td>\n",
       "      <td>G4000</td>\n",
       "      <td>A</td>\n",
       "      <td>25151771744</td>\n",
       "      <td>6979295311</td>\n",
       "      <td>+38.9466584</td>\n",
       "      <td>-076.6744939</td>\n",
       "      <td>POLYGON ((-75.75600 39.24607, -75.75579 39.243...</td>\n",
       "    </tr>\n",
       "  </tbody>\n",
       "</table>\n",
       "</div>"
      ],
      "text/plain": [
       "  region division statefp   statens geoid stusps           name lsad  mtfcc  \\\n",
       "0      3        5      54  01779805    54     WV  West Virginia   00  G4000   \n",
       "1      3        5      12  00294478    12     FL        Florida   00  G4000   \n",
       "2      2        3      17  01779784    17     IL       Illinois   00  G4000   \n",
       "3      2        4      27  00662849    27     MN      Minnesota   00  G4000   \n",
       "4      3        5      24  01714934    24     MD       Maryland   00  G4000   \n",
       "\n",
       "  funcstat         aland       awater     intptlat      intptlon  \\\n",
       "0        A   62266456923    489045863  +38.6472854  -080.6183274   \n",
       "1        A  138962819934  45971472526  +28.3989775  -082.5143005   \n",
       "2        A  143778515726   6216539665  +40.1028754  -089.1526108   \n",
       "3        A  206244837557  18937184315  +46.3159573  -094.1996043   \n",
       "4        A   25151771744   6979295311  +38.9466584  -076.6744939   \n",
       "\n",
       "                                            geometry  \n",
       "0  POLYGON ((-77.75438 39.33346, -77.75422 39.333...  \n",
       "1  MULTIPOLYGON (((-83.10874 24.62949, -83.10711 ...  \n",
       "2  POLYGON ((-87.89243 38.28285, -87.89334 38.282...  \n",
       "3  POLYGON ((-95.31989 48.99892, -95.31747 48.998...  \n",
       "4  POLYGON ((-75.75600 39.24607, -75.75579 39.243...  "
      ]
     },
     "execution_count": 24,
     "metadata": {},
     "output_type": "execute_result"
    }
   ],
   "source": [
    "states.head()"
   ]
  },
  {
   "cell_type": "code",
   "execution_count": 28,
   "id": "6c9abedf-0dfd-4f35-acdb-704adb51e68a",
   "metadata": {
    "tags": []
   },
   "outputs": [
    {
     "name": "stdout",
     "output_type": "stream",
     "text": [
      "['3' '2' '1' '4' '9']\n",
      "['5' '3' '4' '1' '8' '9' '2' '7' '6' '0']\n",
      "['54' '12' '17' '27' '24' '44' '16' '33' '37' '50' '09' '10' '35' '06'\n",
      " '34' '55' '41' '31' '42' '53' '22' '13' '01' '49' '39' '48' '08' '45'\n",
      " '40' '47' '56' '15' '38' '21' '78' '69' '66' '23' '36' '32' '02' '60'\n",
      " '26' '05' '28' '29' '30' '20' '18' '72' '46' '25' '51' '11' '19' '04']\n"
     ]
    }
   ],
   "source": [
    "print(states.region.unique())\n",
    "print(states.division.unique())\n",
    "print(states.statefp.unique())"
   ]
  },
  {
   "cell_type": "markdown",
   "id": "0efadf8a-8c90-4c52-9625-8ae810d15400",
   "metadata": {},
   "source": [
    "Remove region 9 or  0\n",
    "Hawaii have codes 2 and 15 "
   ]
  },
  {
   "cell_type": "code",
   "execution_count": 55,
   "id": "b399a953-9435-4ab4-b63a-55f99c8936c4",
   "metadata": {
    "tags": []
   },
   "outputs": [
    {
     "data": {
      "text/plain": [
       "<Axes: >"
      ]
     },
     "execution_count": 55,
     "metadata": {},
     "output_type": "execute_result"
    },
    {
     "data": {
      "image/png": "[encoded data removed]",
      "text/plain": [
       "<Figure size 640x480 with 1 Axes>"
      ]
     },
     "metadata": {},
     "output_type": "display_data"
    }
   ],
   "source": [
    "# Select contiguous US States \n",
    "\n",
    "contiguous = states[(states.region!=9) & (~states.statefp.isin([2,15]))]\n",
    "contiguous.plot()"
   ]
  },
  {
   "cell_type": "markdown",
   "id": "0c0dc1b7-f654-4fa7-9601-704d38860718",
   "metadata": {},
   "source": [
    "Tilde is used in python to negate a statement \n",
    "\n"
   ]
  },
  {
   "cell_type": "markdown",
   "id": "1ece0a9f-f4c8-4b41-9130-aa71b5af06f5",
   "metadata": {},
   "source": [
    "Select the data in the powerplants data for the contiguous states "
   ]
  },
  {
   "cell_type": "code",
   "execution_count": 40,
   "id": "581e3159-e012-4008-80b0-bc3f603d0b61",
   "metadata": {
    "tags": []
   },
   "outputs": [
    {
     "data": {
      "text/html": [
       "<div>\n",
       "<style scoped>\n",
       "    .dataframe tbody tr th:only-of-type {\n",
       "        vertical-align: middle;\n",
       "    }\n",
       "\n",
       "    .dataframe tbody tr th {\n",
       "        vertical-align: top;\n",
       "    }\n",
       "\n",
       "    .dataframe thead th {\n",
       "        text-align: right;\n",
       "    }\n",
       "</style>\n",
       "<table border=\"1\" class=\"dataframe\">\n",
       "  <thead>\n",
       "    <tr style=\"text-align: right;\">\n",
       "      <th></th>\n",
       "      <th>objectid</th>\n",
       "      <th>plant_code</th>\n",
       "      <th>plant_name</th>\n",
       "      <th>utility_id</th>\n",
       "      <th>utility_name</th>\n",
       "      <th>sector_name</th>\n",
       "      <th>street_address</th>\n",
       "      <th>city</th>\n",
       "      <th>county</th>\n",
       "      <th>state</th>\n",
       "      <th>zip</th>\n",
       "      <th>primsource</th>\n",
       "      <th>source_desc</th>\n",
       "      <th>tech_desc</th>\n",
       "      <th>install_mw</th>\n",
       "      <th>total_mw</th>\n",
       "      <th>bat_mw</th>\n",
       "      <th>bio_mw</th>\n",
       "      <th>coal_mw</th>\n",
       "      <th>geo_mw</th>\n",
       "      <th>hydro_mw</th>\n",
       "      <th>hydrops_mw</th>\n",
       "      <th>ng_mw</th>\n",
       "      <th>nuclear_mw</th>\n",
       "      <th>crude_mw</th>\n",
       "      <th>solar_mw</th>\n",
       "      <th>wind_mw</th>\n",
       "      <th>other_mw</th>\n",
       "      <th>source</th>\n",
       "      <th>period</th>\n",
       "      <th>longitude</th>\n",
       "      <th>latitude</th>\n",
       "      <th>geometry</th>\n",
       "    </tr>\n",
       "  </thead>\n",
       "  <tbody>\n",
       "    <tr>\n",
       "      <th>0</th>\n",
       "      <td>11570</td>\n",
       "      <td>1</td>\n",
       "      <td>Sand Point</td>\n",
       "      <td>63560</td>\n",
       "      <td>TDX Sand Point Generating, LLC</td>\n",
       "      <td>Electric Utility</td>\n",
       "      <td>100 Power Plant Way</td>\n",
       "      <td>Sand Point</td>\n",
       "      <td>Aleutians East</td>\n",
       "      <td>Alaska</td>\n",
       "      <td>99661.0</td>\n",
       "      <td>petroleum</td>\n",
       "      <td>Petroleum = 1.3 MW, Wind = 0.4 MW</td>\n",
       "      <td>Petroleum Liquids; Onshore Wind Turbine;</td>\n",
       "      <td>3.7</td>\n",
       "      <td>1.7</td>\n",
       "      <td>NaN</td>\n",
       "      <td>NaN</td>\n",
       "      <td>NaN</td>\n",
       "      <td>NaN</td>\n",
       "      <td>NaN</td>\n",
       "      <td>NaN</td>\n",
       "      <td>NaN</td>\n",
       "      <td>NaN</td>\n",
       "      <td>1.3</td>\n",
       "      <td>NaN</td>\n",
       "      <td>0.4</td>\n",
       "      <td>NaN</td>\n",
       "      <td>EIA-860, EIA-860M and EIA-923</td>\n",
       "      <td>202305.0</td>\n",
       "      <td>-160.497222</td>\n",
       "      <td>55.339722</td>\n",
       "      <td>POINT (-160.49722 55.33972)</td>\n",
       "    </tr>\n",
       "    <tr>\n",
       "      <th>1</th>\n",
       "      <td>11571</td>\n",
       "      <td>2</td>\n",
       "      <td>Bankhead Dam</td>\n",
       "      <td>195</td>\n",
       "      <td>Alabama Power Co</td>\n",
       "      <td>Electric Utility</td>\n",
       "      <td>19001 Lock 17 Road</td>\n",
       "      <td>Northport</td>\n",
       "      <td>Tuscaloosa</td>\n",
       "      <td>Alabama</td>\n",
       "      <td>35476.0</td>\n",
       "      <td>hydroelectric</td>\n",
       "      <td>Hydroelectric = 53 MW</td>\n",
       "      <td>Conventional Hydroelectric</td>\n",
       "      <td>53.9</td>\n",
       "      <td>53.0</td>\n",
       "      <td>NaN</td>\n",
       "      <td>NaN</td>\n",
       "      <td>NaN</td>\n",
       "      <td>NaN</td>\n",
       "      <td>53.0</td>\n",
       "      <td>NaN</td>\n",
       "      <td>NaN</td>\n",
       "      <td>NaN</td>\n",
       "      <td>NaN</td>\n",
       "      <td>NaN</td>\n",
       "      <td>NaN</td>\n",
       "      <td>NaN</td>\n",
       "      <td>EIA-860, EIA-860M and EIA-923</td>\n",
       "      <td>202305.0</td>\n",
       "      <td>-87.356823</td>\n",
       "      <td>33.458665</td>\n",
       "      <td>POINT (-87.35682 33.45867)</td>\n",
       "    </tr>\n",
       "  </tbody>\n",
       "</table>\n",
       "</div>"
      ],
      "text/plain": [
       "  objectid plant_code    plant_name utility_id  \\\n",
       "0    11570          1    Sand Point      63560   \n",
       "1    11571          2  Bankhead Dam        195   \n",
       "\n",
       "                     utility_name       sector_name       street_address  \\\n",
       "0  TDX Sand Point Generating, LLC  Electric Utility  100 Power Plant Way   \n",
       "1                Alabama Power Co  Electric Utility   19001 Lock 17 Road   \n",
       "\n",
       "         city          county    state      zip     primsource  \\\n",
       "0  Sand Point  Aleutians East   Alaska  99661.0      petroleum   \n",
       "1   Northport      Tuscaloosa  Alabama  35476.0  hydroelectric   \n",
       "\n",
       "                         source_desc  \\\n",
       "0  Petroleum = 1.3 MW, Wind = 0.4 MW   \n",
       "1              Hydroelectric = 53 MW   \n",
       "\n",
       "                                  tech_desc  install_mw  total_mw  bat_mw  \\\n",
       "0  Petroleum Liquids; Onshore Wind Turbine;         3.7       1.7     NaN   \n",
       "1                Conventional Hydroelectric        53.9      53.0     NaN   \n",
       "\n",
       "   bio_mw  coal_mw  geo_mw  hydro_mw  hydrops_mw  ng_mw nuclear_mw  crude_mw  \\\n",
       "0     NaN      NaN     NaN       NaN         NaN    NaN        NaN       1.3   \n",
       "1     NaN      NaN     NaN      53.0         NaN    NaN        NaN       NaN   \n",
       "\n",
       "   solar_mw  wind_mw  other_mw                         source    period  \\\n",
       "0       NaN      0.4       NaN  EIA-860, EIA-860M and EIA-923  202305.0   \n",
       "1       NaN      NaN       NaN  EIA-860, EIA-860M and EIA-923  202305.0   \n",
       "\n",
       "    longitude   latitude                     geometry  \n",
       "0 -160.497222  55.339722  POINT (-160.49722 55.33972)  \n",
       "1  -87.356823  33.458665   POINT (-87.35682 33.45867)  "
      ]
     },
     "execution_count": 40,
     "metadata": {},
     "output_type": "execute_result"
    }
   ],
   "source": [
    "power_plants.head(2)"
   ]
  },
  {
   "cell_type": "code",
   "execution_count": 49,
   "id": "4d809791-b62d-48fb-a6cb-87f6a0d3fa3c",
   "metadata": {
    "tags": []
   },
   "outputs": [
    {
     "data": {
      "text/plain": [
       "<Axes: >"
      ]
     },
     "execution_count": 49,
     "metadata": {},
     "output_type": "execute_result"
    },
    {
     "data": {
      "image/png": "[encoded data removed]",
      "text/plain": [
       "<Figure size 640x480 with 1 Axes>"
      ]
     },
     "metadata": {},
     "output_type": "display_data"
    }
   ],
   "source": [
    "power_plants = power_plants[~power_plants.state.isin(['Hawaii', 'Alaska', 'Puerto Rico'])]\n",
    "power_plants.plot()"
   ]
  },
  {
   "cell_type": "markdown",
   "id": "1125e934-7012-4249-bcc4-770140d69092",
   "metadata": {},
   "source": [
    "## Plotting \n",
    "\n",
    "Before plotting data we need to make sure they are in the same CRS\n"
   ]
  },
  {
   "cell_type": "code",
   "execution_count": 44,
   "id": "b92b2f57-a0c8-437d-b27d-b502b9eef7df",
   "metadata": {
    "tags": []
   },
   "outputs": [
    {
     "data": {
      "text/plain": [
       "True"
      ]
     },
     "execution_count": 44,
     "metadata": {},
     "output_type": "execute_result"
    }
   ],
   "source": [
    "contiguous.crs == power_plants.crs"
   ]
  },
  {
   "cell_type": "code",
   "execution_count": 50,
   "id": "8fbbac03-f96a-49e5-b415-2313c2353247",
   "metadata": {
    "tags": []
   },
   "outputs": [
    {
     "data": {
      "text/plain": [
       "<function matplotlib.pyplot.show(close=None, block=None)>"
      ]
     },
     "execution_count": 50,
     "metadata": {},
     "output_type": "execute_result"
    },
    {
     "data": {
      "image/png": "[encoded data removed]",
      "text/plain": [
       "<Figure size 900x700 with 1 Axes>"
      ]
     },
     "metadata": {},
     "output_type": "display_data"
    }
   ],
   "source": [
    "fig, ax = plt.subplots(figsize = (9,7)) # Update figure size \n",
    "\n",
    "# Remove axis for cleaner map \n",
    "\n",
    "ax.axis('off') \n",
    "\n",
    "# Title \n",
    "\n",
    "ax.set_title('Operable electric generating plants in contiguous US') \n",
    "\n",
    "# Add states \n",
    "contiguous.plot(ax = ax, \n",
    "                color = 'none') \n",
    "\n",
    "# Add power plants colored by energy source \n",
    "\n",
    "power_plants.plot(ax = ax, \n",
    "                  column = 'primsource', \n",
    "                  legend = True, \n",
    "                  markersize = 4, \n",
    "                  cmap = 'tab20', \n",
    "                  alpha = 0.5, \n",
    "                   legend_kwds = {\n",
    "                       'title': 'Primary energy source',\n",
    "                      'title_fontsize': 'small',\n",
    "                      'fontsize': 'small',\n",
    "                      'loc': 'upper left',\n",
    "                      'bbox_to_anchor': (0, 0),\n",
    "                      'ncol': 6\n",
    "                 \n",
    "                   }) # Color palette for points \n",
    "\n",
    "plt.show"
   ]
  },
  {
   "cell_type": "markdown",
   "id": "9df15821-50d3-45b6-aae2-cb8fa59135f3",
   "metadata": {},
   "source": [
    "## `for` with `zip` \n",
    "\n",
    "Often we need to iterate simultaneously over two lists (or iterables). \n",
    "\n",
    "zip is a python function that allows you to combine two lists so you can iterate over their elements in pairs. When used "
   ]
  },
  {
   "cell_type": "code",
   "execution_count": 52,
   "id": "6211ea5c-6cd1-42b1-927b-5a118137d98e",
   "metadata": {
    "tags": []
   },
   "outputs": [
    {
     "name": "stdout",
     "output_type": "stream",
     "text": [
      "2\n",
      "3\n",
      "4\n"
     ]
    }
   ],
   "source": [
    "# Iterate over a single list \n",
    "numbers = [1, 2, 3] \n",
    "for num in numbers: \n",
    "    print(num + 1) "
   ]
  },
  {
   "cell_type": "code",
   "execution_count": 53,
   "id": "d61b9e0f-1292-4821-896c-b5c0cb8859aa",
   "metadata": {
    "tags": []
   },
   "outputs": [
    {
     "name": "stdout",
     "output_type": "stream",
     "text": [
      "2 a\n",
      "3 b\n",
      "4 c\n"
     ]
    }
   ],
   "source": [
    "# Iterate over two lists in pairs using zips \n",
    "\n",
    "letters = ['a', 'b', 'c'] \n",
    "for num, letter in zip(numbers, letters): \n",
    "    print(num+1, letter) "
   ]
  },
  {
   "cell_type": "code",
   "execution_count": 59,
   "id": "a804a90d-dc7b-4874-b276-ed000e2c7534",
   "metadata": {
    "tags": []
   },
   "outputs": [
    {
     "data": {
      "text/plain": [
       "<function matplotlib.pyplot.show(close=None, block=None)>"
      ]
     },
     "execution_count": 59,
     "metadata": {},
     "output_type": "execute_result"
    },
    {
     "data": {
      "image/png": "[encoded data removed]",
      "text/plain": [
       "<Figure size 700x300 with 3 Axes>"
      ]
     },
     "metadata": {},
     "output_type": "display_data"
    }
   ],
   "source": [
    "fig, axes = plt.subplots(nrows = 1, ncols = 3, figsize = (7,3)) \n",
    "\n",
    "axes[0].set_title('This is axis 0') \n",
    "axes[1].set_title('This is axis 1')\n",
    "axes[2].set_title('This is axis 2')\n",
    "\n",
    "plt.show"
   ]
  },
  {
   "cell_type": "code",
   "execution_count": 61,
   "id": "81cde6a9-4e20-4a4f-aabd-9eda5e5a4f49",
   "metadata": {
    "tags": []
   },
   "outputs": [
    {
     "data": {
      "text/plain": [
       "<function matplotlib.pyplot.show(close=None, block=None)>"
      ]
     },
     "execution_count": 61,
     "metadata": {},
     "output_type": "execute_result"
    },
    {
     "data": {
      "image/png": "[encoded data removed]",
      "text/plain": [
       "<Figure size 700x300 with 3 Axes>"
      ]
     },
     "metadata": {},
     "output_type": "display_data"
    }
   ],
   "source": [
    "# Use zip to create the same subplots and avoid redundancy \n",
    "\n",
    "fig, axes = plt.subplots(nrows = 1, ncols = 3, figsize = (7,3)) \n",
    "\n",
    "\n",
    "for ax, i in zip(axes, [0,1,2]): \n",
    "    ax.set_title(f'This is axis {i}') \n",
    "    \n",
    "plt.show"
   ]
  },
  {
   "cell_type": "code",
   "execution_count": 62,
   "id": "22850bcf-3d2f-41b9-9eab-a3ab10d3da06",
   "metadata": {
    "tags": []
   },
   "outputs": [
    {
     "data": {
      "text/html": [
       "<div>\n",
       "<style scoped>\n",
       "    .dataframe tbody tr th:only-of-type {\n",
       "        vertical-align: middle;\n",
       "    }\n",
       "\n",
       "    .dataframe tbody tr th {\n",
       "        vertical-align: top;\n",
       "    }\n",
       "\n",
       "    .dataframe thead th {\n",
       "        text-align: right;\n",
       "    }\n",
       "</style>\n",
       "<table border=\"1\" class=\"dataframe\">\n",
       "  <thead>\n",
       "    <tr style=\"text-align: right;\">\n",
       "      <th></th>\n",
       "      <th>objectid</th>\n",
       "      <th>plant_code</th>\n",
       "      <th>plant_name</th>\n",
       "      <th>utility_id</th>\n",
       "      <th>utility_name</th>\n",
       "      <th>sector_name</th>\n",
       "      <th>street_address</th>\n",
       "      <th>city</th>\n",
       "      <th>county</th>\n",
       "      <th>state</th>\n",
       "      <th>zip</th>\n",
       "      <th>primsource</th>\n",
       "      <th>source_desc</th>\n",
       "      <th>tech_desc</th>\n",
       "      <th>install_mw</th>\n",
       "      <th>total_mw</th>\n",
       "      <th>bat_mw</th>\n",
       "      <th>bio_mw</th>\n",
       "      <th>coal_mw</th>\n",
       "      <th>geo_mw</th>\n",
       "      <th>hydro_mw</th>\n",
       "      <th>hydrops_mw</th>\n",
       "      <th>ng_mw</th>\n",
       "      <th>nuclear_mw</th>\n",
       "      <th>crude_mw</th>\n",
       "      <th>solar_mw</th>\n",
       "      <th>wind_mw</th>\n",
       "      <th>other_mw</th>\n",
       "      <th>source</th>\n",
       "      <th>period</th>\n",
       "      <th>longitude</th>\n",
       "      <th>latitude</th>\n",
       "      <th>geometry</th>\n",
       "    </tr>\n",
       "  </thead>\n",
       "  <tbody>\n",
       "    <tr>\n",
       "      <th>1</th>\n",
       "      <td>11571</td>\n",
       "      <td>2</td>\n",
       "      <td>Bankhead Dam</td>\n",
       "      <td>195</td>\n",
       "      <td>Alabama Power Co</td>\n",
       "      <td>Electric Utility</td>\n",
       "      <td>19001 Lock 17 Road</td>\n",
       "      <td>Northport</td>\n",
       "      <td>Tuscaloosa</td>\n",
       "      <td>Alabama</td>\n",
       "      <td>35476.0</td>\n",
       "      <td>hydroelectric</td>\n",
       "      <td>Hydroelectric = 53 MW</td>\n",
       "      <td>Conventional Hydroelectric</td>\n",
       "      <td>53.9</td>\n",
       "      <td>53.0</td>\n",
       "      <td>NaN</td>\n",
       "      <td>NaN</td>\n",
       "      <td>NaN</td>\n",
       "      <td>NaN</td>\n",
       "      <td>53.0</td>\n",
       "      <td>NaN</td>\n",
       "      <td>NaN</td>\n",
       "      <td>NaN</td>\n",
       "      <td>NaN</td>\n",
       "      <td>NaN</td>\n",
       "      <td>NaN</td>\n",
       "      <td>NaN</td>\n",
       "      <td>EIA-860, EIA-860M and EIA-923</td>\n",
       "      <td>202305.0</td>\n",
       "      <td>-87.356823</td>\n",
       "      <td>33.458665</td>\n",
       "      <td>POINT (-87.35682 33.45867)</td>\n",
       "    </tr>\n",
       "  </tbody>\n",
       "</table>\n",
       "</div>"
      ],
      "text/plain": [
       "  objectid plant_code    plant_name utility_id      utility_name  \\\n",
       "1    11571          2  Bankhead Dam        195  Alabama Power Co   \n",
       "\n",
       "        sector_name      street_address       city      county    state  \\\n",
       "1  Electric Utility  19001 Lock 17 Road  Northport  Tuscaloosa  Alabama   \n",
       "\n",
       "       zip     primsource            source_desc                   tech_desc  \\\n",
       "1  35476.0  hydroelectric  Hydroelectric = 53 MW  Conventional Hydroelectric   \n",
       "\n",
       "   install_mw  total_mw  bat_mw  bio_mw  coal_mw  geo_mw  hydro_mw  \\\n",
       "1        53.9      53.0     NaN     NaN      NaN     NaN      53.0   \n",
       "\n",
       "   hydrops_mw  ng_mw nuclear_mw  crude_mw  solar_mw  wind_mw  other_mw  \\\n",
       "1         NaN    NaN        NaN       NaN       NaN      NaN       NaN   \n",
       "\n",
       "                          source    period  longitude   latitude  \\\n",
       "1  EIA-860, EIA-860M and EIA-923  202305.0 -87.356823  33.458665   \n",
       "\n",
       "                     geometry  \n",
       "1  POINT (-87.35682 33.45867)  "
      ]
     },
     "execution_count": 62,
     "metadata": {},
     "output_type": "execute_result"
    }
   ],
   "source": [
    "power_plants.head(1)"
   ]
  },
  {
   "cell_type": "code",
   "execution_count": 105,
   "id": "5d594e8c-3761-4ee9-934f-99a4d8255001",
   "metadata": {
    "tags": []
   },
   "outputs": [],
   "source": [
    "ca_power_plants = power_plants[power_plants['state'] == 'California']"
   ]
  },
  {
   "cell_type": "code",
   "execution_count": 98,
   "id": "7ff0ce98-7212-4edd-b6f9-6cd2651a6eb1",
   "metadata": {
    "tags": []
   },
   "outputs": [],
   "source": [
    "top_sources = ['solar', 'natural gas', 'hydroelectric'] "
   ]
  },
  {
   "cell_type": "code",
   "execution_count": 86,
   "id": "7232a981-e2f4-40f7-803a-3c7cd5bedd2d",
   "metadata": {
    "tags": []
   },
   "outputs": [],
   "source": [
    "#top_sources = ca_powerplants[ca_powerplants['primsource'].isin(['solar', 'natural gas', 'hydroelectric'])]"
   ]
  },
  {
   "cell_type": "code",
   "execution_count": 69,
   "id": "d5240106-048c-420f-8239-d17da3c1d2fe",
   "metadata": {
    "tags": []
   },
   "outputs": [],
   "source": [
    "ca_boundary = states[states['statefp'] == '06']"
   ]
  },
  {
   "cell_type": "code",
   "execution_count": 109,
   "id": "2021ce9d-a0b5-44b9-9a72-a9695d24c6c1",
   "metadata": {
    "tags": []
   },
   "outputs": [
    {
     "data": {
      "image/png": "[encoded data removed]",
      "text/plain": [
       "<Figure size 700x300 with 3 Axes>"
      ]
     },
     "metadata": {},
     "output_type": "display_data"
    }
   ],
   "source": [
    "fig, ax = plt.subplots(nrows = 1, ncols = 3, figsize = (7,3)) \n",
    "\n",
    "for ax, i in zip(ax, top_sources): \n",
    "    ax.set_title(i)\n",
    "    ax.axis('off') \n",
    "    \n",
    "    ca_boundary.plot(ax = ax, \n",
    "                    color = 'none', \n",
    "                    edgecolor = 'black') \n",
    "    \n",
    "    ca_power_plants[ca_power_plants['primsource'] == i].plot(ax = ax, \n",
    "                                                            markersize = 4, \n",
    "                                                            alpha = .5)"
   ]
  },
  {
   "cell_type": "code",
   "execution_count": null,
   "id": "e95de609-7d40-461d-9620-4cde9a0880a4",
   "metadata": {},
   "outputs": [],
   "source": []
  }
 ],
 "metadata": {
  "kernelspec": {
   "display_name": "EDS220",
   "language": "python",
   "name": "eds220-env"
  },
  "language_info": {
   "codemirror_mode": {
    "name": "ipython",
    "version": 3
   },
   "file_extension": ".py",
   "mimetype": "text/x-python",
   "name": "python",
   "nbconvert_exporter": "python",
   "pygments_lexer": "ipython3",
   "version": "3.11.4"
  }
 },
 "nbformat": 4,
 "nbformat_minor": 5
}
